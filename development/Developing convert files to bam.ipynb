{
 "cells": [
  {
   "cell_type": "markdown",
   "metadata": {},
   "source": [
    "Goal of this script is simply to convert all of the `.sam` files in a given directory to `.bam`, sort them, and create an index for them"
   ]
  },
  {
   "cell_type": "code",
   "execution_count": 5,
   "metadata": {},
   "outputs": [],
   "source": [
    "import os\n",
    "import sys\n",
    "\n",
    "import numpy as np\n",
    "import time"
   ]
  },
  {
   "cell_type": "markdown",
   "metadata": {},
   "source": [
    "## User Inputs"
   ]
  },
  {
   "cell_type": "code",
   "execution_count": 3,
   "metadata": {},
   "outputs": [
    {
     "name": "stdout",
     "output_type": "stream",
     "text": [
      "BC01.sam       BC04.sam       BC07.sam       BC10.sam       \u001b[34mfastq\u001b[m\u001b[m/\r\n",
      "BC02.sam       BC05.sam       BC08.sam       BC11.sam       \u001b[34mfastq_trimmed\u001b[m\u001b[m/\r\n",
      "BC03.sam       BC06.sam       BC09.sam       BC12.sam       none.sam\r\n"
     ]
    }
   ],
   "source": [
    "ls data/ont/uk/2019-03-28/"
   ]
  },
  {
   "cell_type": "code",
   "execution_count": 6,
   "metadata": {},
   "outputs": [],
   "source": [
    "sam_dir = \"data/ont/uk/2019-03-28/\""
   ]
  },
  {
   "cell_type": "markdown",
   "metadata": {},
   "source": [
    "##  Program"
   ]
  },
  {
   "cell_type": "code",
   "execution_count": 9,
   "metadata": {
    "scrolled": false
   },
   "outputs": [
    {
     "name": "stdout",
     "output_type": "stream",
     "text": [
      "File 0\n",
      "Name: BC08.sam\n",
      "Converting to BAM...\n",
      "   samtools view -S -b data/ont/uk/2019-03-28/BC08.sam > data/ont/uk/2019-03-28/BC08.bam\n",
      "Sorting BAM...\n",
      "   samtools sort data/ont/uk/2019-03-28/BC08.bam -o data/ont/uk/2019-03-28/BC08.sorted.bam\n",
      "Indexing BAM...\n",
      "   samtools index data/ont/uk/2019-03-28/BC08.sorted.bam\n",
      "Done.\n",
      "\n",
      "File 1\n",
      "Name: BC09.sam\n",
      "Converting to BAM...\n",
      "   samtools view -S -b data/ont/uk/2019-03-28/BC09.sam > data/ont/uk/2019-03-28/BC09.bam\n",
      "Sorting BAM...\n",
      "   samtools sort data/ont/uk/2019-03-28/BC09.bam -o data/ont/uk/2019-03-28/BC09.sorted.bam\n",
      "Indexing BAM...\n",
      "   samtools index data/ont/uk/2019-03-28/BC09.sorted.bam\n",
      "Done.\n",
      "\n",
      "File 2\n",
      "Name: none.sam\n",
      "Converting to BAM...\n",
      "   samtools view -S -b data/ont/uk/2019-03-28/none.sam > data/ont/uk/2019-03-28/none.bam\n",
      "Sorting BAM...\n",
      "   samtools sort data/ont/uk/2019-03-28/none.bam -o data/ont/uk/2019-03-28/none.sorted.bam\n",
      "Indexing BAM...\n",
      "   samtools index data/ont/uk/2019-03-28/none.sorted.bam\n",
      "Done.\n",
      "\n",
      "File 3\n",
      "Name: BC01.sam\n",
      "Converting to BAM...\n",
      "   samtools view -S -b data/ont/uk/2019-03-28/BC01.sam > data/ont/uk/2019-03-28/BC01.bam\n",
      "Sorting BAM...\n",
      "   samtools sort data/ont/uk/2019-03-28/BC01.bam -o data/ont/uk/2019-03-28/BC01.sorted.bam\n",
      "Indexing BAM...\n",
      "   samtools index data/ont/uk/2019-03-28/BC01.sorted.bam\n",
      "Done.\n",
      "\n",
      "File 4\n",
      "Name: BC02.sam\n",
      "Converting to BAM...\n",
      "   samtools view -S -b data/ont/uk/2019-03-28/BC02.sam > data/ont/uk/2019-03-28/BC02.bam\n",
      "Sorting BAM...\n",
      "   samtools sort data/ont/uk/2019-03-28/BC02.bam -o data/ont/uk/2019-03-28/BC02.sorted.bam\n",
      "Indexing BAM...\n",
      "   samtools index data/ont/uk/2019-03-28/BC02.sorted.bam\n",
      "Done.\n",
      "\n",
      "File 5\n",
      "Name: BC03.sam\n",
      "Converting to BAM...\n",
      "   samtools view -S -b data/ont/uk/2019-03-28/BC03.sam > data/ont/uk/2019-03-28/BC03.bam\n",
      "Sorting BAM...\n",
      "   samtools sort data/ont/uk/2019-03-28/BC03.bam -o data/ont/uk/2019-03-28/BC03.sorted.bam\n",
      "Indexing BAM...\n",
      "   samtools index data/ont/uk/2019-03-28/BC03.sorted.bam\n",
      "Done.\n",
      "\n",
      "File 6\n",
      "Name: BC07.sam\n",
      "Converting to BAM...\n",
      "   samtools view -S -b data/ont/uk/2019-03-28/BC07.sam > data/ont/uk/2019-03-28/BC07.bam\n",
      "Sorting BAM...\n",
      "   samtools sort data/ont/uk/2019-03-28/BC07.bam -o data/ont/uk/2019-03-28/BC07.sorted.bam\n",
      "Indexing BAM...\n",
      "   samtools index data/ont/uk/2019-03-28/BC07.sorted.bam\n",
      "Done.\n",
      "\n",
      "File 7\n",
      "Name: BC06.sam\n",
      "Converting to BAM...\n",
      "   samtools view -S -b data/ont/uk/2019-03-28/BC06.sam > data/ont/uk/2019-03-28/BC06.bam\n",
      "Sorting BAM...\n",
      "   samtools sort data/ont/uk/2019-03-28/BC06.bam -o data/ont/uk/2019-03-28/BC06.sorted.bam\n",
      "Indexing BAM...\n",
      "   samtools index data/ont/uk/2019-03-28/BC06.sorted.bam\n",
      "Done.\n",
      "\n",
      "File 8\n",
      "Name: BC12.sam\n",
      "Converting to BAM...\n",
      "   samtools view -S -b data/ont/uk/2019-03-28/BC12.sam > data/ont/uk/2019-03-28/BC12.bam\n",
      "Sorting BAM...\n",
      "   samtools sort data/ont/uk/2019-03-28/BC12.bam -o data/ont/uk/2019-03-28/BC12.sorted.bam\n",
      "Indexing BAM...\n",
      "   samtools index data/ont/uk/2019-03-28/BC12.sorted.bam\n",
      "Done.\n",
      "\n",
      "File 9\n",
      "Name: BC04.sam\n",
      "Converting to BAM...\n",
      "   samtools view -S -b data/ont/uk/2019-03-28/BC04.sam > data/ont/uk/2019-03-28/BC04.bam\n",
      "Sorting BAM...\n",
      "   samtools sort data/ont/uk/2019-03-28/BC04.bam -o data/ont/uk/2019-03-28/BC04.sorted.bam\n",
      "Indexing BAM...\n",
      "   samtools index data/ont/uk/2019-03-28/BC04.sorted.bam\n",
      "Done.\n",
      "\n",
      "File 10\n",
      "Name: BC10.sam\n",
      "Converting to BAM...\n",
      "   samtools view -S -b data/ont/uk/2019-03-28/BC10.sam > data/ont/uk/2019-03-28/BC10.bam\n",
      "Sorting BAM...\n",
      "   samtools sort data/ont/uk/2019-03-28/BC10.bam -o data/ont/uk/2019-03-28/BC10.sorted.bam\n",
      "Indexing BAM...\n",
      "   samtools index data/ont/uk/2019-03-28/BC10.sorted.bam\n",
      "Done.\n",
      "\n",
      "File 11\n",
      "Name: BC11.sam\n",
      "Converting to BAM...\n",
      "   samtools view -S -b data/ont/uk/2019-03-28/BC11.sam > data/ont/uk/2019-03-28/BC11.bam\n",
      "Sorting BAM...\n",
      "   samtools sort data/ont/uk/2019-03-28/BC11.bam -o data/ont/uk/2019-03-28/BC11.sorted.bam\n",
      "Indexing BAM...\n",
      "   samtools index data/ont/uk/2019-03-28/BC11.sorted.bam\n",
      "Done.\n",
      "\n",
      "File 12\n",
      "Name: BC05.sam\n",
      "Converting to BAM...\n",
      "   samtools view -S -b data/ont/uk/2019-03-28/BC05.sam > data/ont/uk/2019-03-28/BC05.bam\n",
      "Sorting BAM...\n",
      "   samtools sort data/ont/uk/2019-03-28/BC05.bam -o data/ont/uk/2019-03-28/BC05.sorted.bam\n",
      "Indexing BAM...\n",
      "   samtools index data/ont/uk/2019-03-28/BC05.sorted.bam\n",
      "Done.\n",
      "\n"
     ]
    }
   ],
   "source": [
    "sam_files = [f for f in os.listdir(sam_dir) if \".sam\" in f]\n",
    "for i, sam_file in enumerate(sam_files):\n",
    "    print(\"File\", i)\n",
    "    print(\"Name:\", sam_file)\n",
    "    bam_file = sam_file.replace(\"sam\", \"bam\")\n",
    "    \n",
    "    # Convert to BAM\n",
    "    print(\"Converting to BAM...\")\n",
    "    cmd = \"samtools view -S -b %s > %s\" % (os.path.join(sam_dir, sam_file),\n",
    "                                           os.path.join(sam_dir, bam_file))\n",
    "    print(\"  \", cmd)\n",
    "    os.system(cmd)\n",
    "    \n",
    "    # Sort BAM\n",
    "    print(\"Sorting BAM...\")\n",
    "    bam_sorted_file = bam_file.replace(\"bam\", \"sorted.bam\")\n",
    "    cmd = \"samtools sort %s -o %s\" % (os.path.join(sam_dir, bam_file),\n",
    "                                      os.path.join(sam_dir, bam_sorted_file))\n",
    "    print(\"  \", cmd)\n",
    "    os.system(cmd)\n",
    "    \n",
    "    # Index BAM\n",
    "    print(\"Indexing BAM...\")\n",
    "    cmd = \"samtools index %s\" % os.path.join(sam_dir, bam_sorted_file)\n",
    "    print(\"  \", cmd)\n",
    "    os.system(cmd)\n",
    "    \n",
    "    \n",
    "    print(\"Done.\")\n",
    "    print(\"\")"
   ]
  },
  {
   "cell_type": "code",
   "execution_count": null,
   "metadata": {},
   "outputs": [],
   "source": [
    "    # Prepare file for pileup\n",
    "    print(\"Converting to BAM...\")\n",
    "    os.system(\"samtools view -S -b %s > %s\" % (dwn_sam, dwn_bam))\n",
    "    print(\"Sorting BAM...\")\n",
    "    os.system(\"samtools sort %s -o %s\" % (dwn_sam, dwn_sorted_bam))\n",
    "    print(\"Indexing BAM...\")\n",
    "    os.system(\"samtools index %s\" % (dwn_sorted_bam))\n",
    "    print(\"Done.\")"
   ]
  },
  {
   "cell_type": "code",
   "execution_count": null,
   "metadata": {},
   "outputs": [],
   "source": [
    "            ID, ext = os.path.splitext(file)\n",
    "            print(\"File\", i)\n",
    "            print(\"  Name:\", file)\n",
    "            print(\"  ID:\", ID)\n",
    "            print(\"  Copying to /fastq directory...\")\n",
    "            cmd = \"cp %s %s\" % (os.path.join(source_dir, file), fastq_dir)\n",
    "            print(\"  \", cmd)\n",
    "            os.system(cmd)\n",
    "            print(\"  Done.\")\n",
    "            print(\"\")\n",
    "            print(\"  Beginning adapter trimming...\")\n",
    "            trimmed_output_dir = os.path.join(trimmed_dir, ID)\n",
    "            if not os.path.isdir(trimmed_output_dir):\n",
    "                os.mkdir(trimmed_output_dir)\n",
    "            print(\"  Output dir:\", trimmed_output_dir)\n",
    "            cmd = \"porechop -i %s -b %s\" % (os.path.join(fastq_dir, file), trimmed_output_dir)\n",
    "            print(\"  \", cmd)\n",
    "            os.system(cmd)\n",
    "            print(\"  Done.\")"
   ]
  }
 ],
 "metadata": {
  "kernelspec": {
   "display_name": "Python 3",
   "language": "python",
   "name": "python3"
  },
  "language_info": {
   "codemirror_mode": {
    "name": "ipython",
    "version": 3
   },
   "file_extension": ".py",
   "mimetype": "text/x-python",
   "name": "python",
   "nbconvert_exporter": "python",
   "pygments_lexer": "ipython3",
   "version": "3.6.5"
  }
 },
 "nbformat": 4,
 "nbformat_minor": 2
}
