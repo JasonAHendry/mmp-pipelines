{
 "cells": [
  {
   "cell_type": "markdown",
   "metadata": {},
   "source": [
    "# Explore the consensus accuracy for each amplicon using the 3D7 control sample\n",
    "---\n"
   ]
  },
  {
   "cell_type": "code",
   "execution_count": 28,
   "metadata": {},
   "outputs": [],
   "source": [
    "import os\n",
    "import sys\n",
    "import configparser\n",
    "import getopt\n",
    "import numpy as np\n",
    "import pandas as pd\n",
    "from collections import Counter\n",
    "\n",
    "from lib.error import *"
   ]
  },
  {
   "cell_type": "code",
   "execution_count": 29,
   "metadata": {},
   "outputs": [],
   "source": [
    "import matplotlib.pyplot as plt\n",
    "import seaborn as sns\n",
    "import matplotlib.gridspec as gridspec\n",
    "\n",
    "# inline stylization\n",
    "%matplotlib inline\n",
    "sns.set_style('white')\n",
    "sns.set_style('ticks')\n",
    "plt.rcParams['figure.dpi'] = 150\n",
    "plt.rcParams['savefig.dpi'] = 150\n",
    "plt.rcParams['figure.figsize'] = [4, 4]"
   ]
  },
  {
   "cell_type": "markdown",
   "metadata": {},
   "source": [
    "## 0 Settings"
   ]
  },
  {
   "cell_type": "code",
   "execution_count": 30,
   "metadata": {},
   "outputs": [],
   "source": [
    "expt_dir = \"../analysis/ont/zambia/2019-04-10\"  # experiment of interest\n",
    "cntrl_sample = \"BC05\"  # 3d7 sample"
   ]
  },
  {
   "cell_type": "markdown",
   "metadata": {},
   "source": [
    "If `save_figs` is set to `True`, then figures are automatically saved as `.png` under `../figs`, as well as visualized in the notebook."
   ]
  },
  {
   "cell_type": "code",
   "execution_count": 31,
   "metadata": {},
   "outputs": [],
   "source": [
    "save_figs = True\n",
    "fig_dir = expt_dir.replace(\"analysis\", \"figs\")\n",
    "if not os.path.exists(fig_dir):\n",
    "    os.makedirs(fig_dir)"
   ]
  },
  {
   "cell_type": "code",
   "execution_count": 32,
   "metadata": {},
   "outputs": [
    {
     "name": "stdout",
     "output_type": "stream",
     "text": [
      "Make Figures: True\n",
      "Figure path: ../figs/ont/zambia/2019-04-10\n"
     ]
    }
   ],
   "source": [
    "print(\"Make Figures:\", save_figs)\n",
    "print(\"Figure path:\", fig_dir)"
   ]
  },
  {
   "cell_type": "markdown",
   "metadata": {},
   "source": [
    "## 1 By Gene"
   ]
  },
  {
   "cell_type": "code",
   "execution_count": 33,
   "metadata": {},
   "outputs": [],
   "source": [
    "def plot_consensus(df, gene_name, ax, cols, label=True):\n",
    "    \"\"\"\n",
    "    Plot the consensus accuracy for a given\n",
    "    `gene_name` from a crosstable\n",
    "    \n",
    "    \"\"\"\n",
    "    \n",
    "    sites_correct = sum([row[base] for base,row in df.iterrows()])\n",
    "    total_sites = df.sum().sum()\n",
    "    identity = \"%d/%d (%.02f%%)\" % (sites_correct,\n",
    "                                    total_sites,\n",
    "                                    100*sites_correct/total_sites)\n",
    "    \n",
    "    # Plot\n",
    "    df.plot(kind=\"bar\", \n",
    "            stacked=True,\n",
    "            color=cols,\n",
    "            ax=ax)\n",
    "    \n",
    "    if label:\n",
    "        ax.set_xticklabels(ax.get_xticklabels(), rotation=0)\n",
    "        ax.set_title(\"%s \\n %s\" % (gene_name, identity))\n",
    "        ax.set_ylabel(\"Number of Sites\")\n",
    "        ax.set_xlabel(\"Reference Nucleotide\")\n",
    "        ax.legend(bbox_to_anchor=(1, 1), ncol=1, frameon=True, title=\"Consensus Call\")"
   ]
  },
  {
   "cell_type": "markdown",
   "metadata": {},
   "source": [
    "### 1a $KELCH13$"
   ]
  },
  {
   "cell_type": "code",
   "execution_count": 34,
   "metadata": {},
   "outputs": [],
   "source": [
    "cntrl_fn = cntrl_sample + \".KELCH13.reverse.nt_error.csv\"\n",
    "cntrl_path = os.path.join(expt_dir, cntrl_fn)"
   ]
  },
  {
   "cell_type": "code",
   "execution_count": 35,
   "metadata": {},
   "outputs": [],
   "source": [
    "error_df = pd.read_csv(cntrl_path)\n",
    "error_df = convert_to_frequencies(error_df, \"total\", [\"position\", \"ref\", \"total\"])"
   ]
  },
  {
   "cell_type": "code",
   "execution_count": 36,
   "metadata": {},
   "outputs": [
    {
     "data": {
      "text/html": [
       "<div>\n",
       "<style scoped>\n",
       "    .dataframe tbody tr th:only-of-type {\n",
       "        vertical-align: middle;\n",
       "    }\n",
       "\n",
       "    .dataframe tbody tr th {\n",
       "        vertical-align: top;\n",
       "    }\n",
       "\n",
       "    .dataframe thead th {\n",
       "        text-align: right;\n",
       "    }\n",
       "</style>\n",
       "<table border=\"1\" class=\"dataframe\">\n",
       "  <thead>\n",
       "    <tr style=\"text-align: right;\">\n",
       "      <th></th>\n",
       "      <th>position</th>\n",
       "      <th>ref</th>\n",
       "      <th>total</th>\n",
       "      <th>A</th>\n",
       "      <th>T</th>\n",
       "      <th>C</th>\n",
       "      <th>G</th>\n",
       "      <th>-</th>\n",
       "      <th>+</th>\n",
       "      <th>SNV</th>\n",
       "      <th>error</th>\n",
       "    </tr>\n",
       "  </thead>\n",
       "  <tbody>\n",
       "    <tr>\n",
       "      <th>0</th>\n",
       "      <td>0</td>\n",
       "      <td>A</td>\n",
       "      <td>10159</td>\n",
       "      <td>0.863176</td>\n",
       "      <td>0.001280</td>\n",
       "      <td>0.001673</td>\n",
       "      <td>0.014076</td>\n",
       "      <td>0.108967</td>\n",
       "      <td>0.010828</td>\n",
       "      <td>0.017029</td>\n",
       "      <td>0.136824</td>\n",
       "    </tr>\n",
       "    <tr>\n",
       "      <th>1</th>\n",
       "      <td>1</td>\n",
       "      <td>T</td>\n",
       "      <td>9449</td>\n",
       "      <td>0.002646</td>\n",
       "      <td>0.935020</td>\n",
       "      <td>0.005186</td>\n",
       "      <td>0.002963</td>\n",
       "      <td>0.045190</td>\n",
       "      <td>0.008996</td>\n",
       "      <td>0.010795</td>\n",
       "      <td>0.064980</td>\n",
       "    </tr>\n",
       "    <tr>\n",
       "      <th>2</th>\n",
       "      <td>2</td>\n",
       "      <td>G</td>\n",
       "      <td>9643</td>\n",
       "      <td>0.004874</td>\n",
       "      <td>0.002385</td>\n",
       "      <td>0.001556</td>\n",
       "      <td>0.937882</td>\n",
       "      <td>0.043555</td>\n",
       "      <td>0.009748</td>\n",
       "      <td>0.008815</td>\n",
       "      <td>0.062118</td>\n",
       "    </tr>\n",
       "    <tr>\n",
       "      <th>3</th>\n",
       "      <td>3</td>\n",
       "      <td>G</td>\n",
       "      <td>9396</td>\n",
       "      <td>0.003299</td>\n",
       "      <td>0.005960</td>\n",
       "      <td>0.001384</td>\n",
       "      <td>0.935930</td>\n",
       "      <td>0.048212</td>\n",
       "      <td>0.005215</td>\n",
       "      <td>0.010643</td>\n",
       "      <td>0.064070</td>\n",
       "    </tr>\n",
       "    <tr>\n",
       "      <th>4</th>\n",
       "      <td>4</td>\n",
       "      <td>A</td>\n",
       "      <td>9780</td>\n",
       "      <td>0.927812</td>\n",
       "      <td>0.002658</td>\n",
       "      <td>0.001227</td>\n",
       "      <td>0.005930</td>\n",
       "      <td>0.044785</td>\n",
       "      <td>0.017587</td>\n",
       "      <td>0.009816</td>\n",
       "      <td>0.072188</td>\n",
       "    </tr>\n",
       "  </tbody>\n",
       "</table>\n",
       "</div>"
      ],
      "text/plain": [
       "   position ref  total         A         T         C         G         -  \\\n",
       "0         0   A  10159  0.863176  0.001280  0.001673  0.014076  0.108967   \n",
       "1         1   T   9449  0.002646  0.935020  0.005186  0.002963  0.045190   \n",
       "2         2   G   9643  0.004874  0.002385  0.001556  0.937882  0.043555   \n",
       "3         3   G   9396  0.003299  0.005960  0.001384  0.935930  0.048212   \n",
       "4         4   A   9780  0.927812  0.002658  0.001227  0.005930  0.044785   \n",
       "\n",
       "          +       SNV     error  \n",
       "0  0.010828  0.017029  0.136824  \n",
       "1  0.008996  0.010795  0.064980  \n",
       "2  0.009748  0.008815  0.062118  \n",
       "3  0.005215  0.010643  0.064070  \n",
       "4  0.017587  0.009816  0.072188  "
      ]
     },
     "execution_count": 36,
     "metadata": {},
     "output_type": "execute_result"
    }
   ],
   "source": [
    "error_df.head()"
   ]
  },
  {
   "cell_type": "code",
   "execution_count": 37,
   "metadata": {},
   "outputs": [],
   "source": [
    "error_df[\"call\"] = error_df[[\"A\", \"T\", \"C\", \"G\", \"-\", \"+\"]].idxmax(1)"
   ]
  },
  {
   "cell_type": "code",
   "execution_count": 38,
   "metadata": {},
   "outputs": [
    {
     "data": {
      "text/html": [
       "<div>\n",
       "<style scoped>\n",
       "    .dataframe tbody tr th:only-of-type {\n",
       "        vertical-align: middle;\n",
       "    }\n",
       "\n",
       "    .dataframe tbody tr th {\n",
       "        vertical-align: top;\n",
       "    }\n",
       "\n",
       "    .dataframe thead th {\n",
       "        text-align: right;\n",
       "    }\n",
       "</style>\n",
       "<table border=\"1\" class=\"dataframe\">\n",
       "  <thead>\n",
       "    <tr style=\"text-align: right;\">\n",
       "      <th></th>\n",
       "      <th>position</th>\n",
       "      <th>ref</th>\n",
       "      <th>total</th>\n",
       "      <th>A</th>\n",
       "      <th>T</th>\n",
       "      <th>C</th>\n",
       "      <th>G</th>\n",
       "      <th>-</th>\n",
       "      <th>+</th>\n",
       "      <th>SNV</th>\n",
       "      <th>error</th>\n",
       "      <th>call</th>\n",
       "    </tr>\n",
       "  </thead>\n",
       "  <tbody>\n",
       "  </tbody>\n",
       "</table>\n",
       "</div>"
      ],
      "text/plain": [
       "Empty DataFrame\n",
       "Columns: [position, ref, total, A, T, C, G, -, +, SNV, error, call]\n",
       "Index: []"
      ]
     },
     "execution_count": 38,
     "metadata": {},
     "output_type": "execute_result"
    }
   ],
   "source": [
    "error_df.query(\"call == '+'\")  # there are no consensus insertions"
   ]
  },
  {
   "cell_type": "code",
   "execution_count": 39,
   "metadata": {},
   "outputs": [],
   "source": [
    "consensus = pd.crosstab(index=error_df[\"ref\"], columns=error_df[\"call\"])\n",
    "consensus = consensus.reindex([\"A\", \"T\", \"C\", \"G\"])[[\"A\", \"T\", \"C\", \"G\", \"-\"]]"
   ]
  },
  {
   "cell_type": "code",
   "execution_count": 40,
   "metadata": {},
   "outputs": [
    {
     "data": {
      "text/html": [
       "<div>\n",
       "<style scoped>\n",
       "    .dataframe tbody tr th:only-of-type {\n",
       "        vertical-align: middle;\n",
       "    }\n",
       "\n",
       "    .dataframe tbody tr th {\n",
       "        vertical-align: top;\n",
       "    }\n",
       "\n",
       "    .dataframe thead th {\n",
       "        text-align: right;\n",
       "    }\n",
       "</style>\n",
       "<table border=\"1\" class=\"dataframe\">\n",
       "  <thead>\n",
       "    <tr style=\"text-align: right;\">\n",
       "      <th>call</th>\n",
       "      <th>A</th>\n",
       "      <th>T</th>\n",
       "      <th>C</th>\n",
       "      <th>G</th>\n",
       "      <th>-</th>\n",
       "    </tr>\n",
       "    <tr>\n",
       "      <th>ref</th>\n",
       "      <th></th>\n",
       "      <th></th>\n",
       "      <th></th>\n",
       "      <th></th>\n",
       "      <th></th>\n",
       "    </tr>\n",
       "  </thead>\n",
       "  <tbody>\n",
       "    <tr>\n",
       "      <th>A</th>\n",
       "      <td>891</td>\n",
       "      <td>0</td>\n",
       "      <td>0</td>\n",
       "      <td>0</td>\n",
       "      <td>9</td>\n",
       "    </tr>\n",
       "    <tr>\n",
       "      <th>T</th>\n",
       "      <td>0</td>\n",
       "      <td>696</td>\n",
       "      <td>0</td>\n",
       "      <td>0</td>\n",
       "      <td>1</td>\n",
       "    </tr>\n",
       "    <tr>\n",
       "      <th>C</th>\n",
       "      <td>0</td>\n",
       "      <td>0</td>\n",
       "      <td>212</td>\n",
       "      <td>0</td>\n",
       "      <td>0</td>\n",
       "    </tr>\n",
       "    <tr>\n",
       "      <th>G</th>\n",
       "      <td>0</td>\n",
       "      <td>0</td>\n",
       "      <td>0</td>\n",
       "      <td>372</td>\n",
       "      <td>0</td>\n",
       "    </tr>\n",
       "  </tbody>\n",
       "</table>\n",
       "</div>"
      ],
      "text/plain": [
       "call    A    T    C    G  -\n",
       "ref                        \n",
       "A     891    0    0    0  9\n",
       "T       0  696    0    0  1\n",
       "C       0    0  212    0  0\n",
       "G       0    0    0  372  0"
      ]
     },
     "execution_count": 40,
     "metadata": {},
     "output_type": "execute_result"
    }
   ],
   "source": [
    "consensus"
   ]
  },
  {
   "cell_type": "code",
   "execution_count": 41,
   "metadata": {},
   "outputs": [],
   "source": [
    "cols = sns.color_palette(sns.color_palette(\"Paired\", 4) + [\"grey\"])"
   ]
  },
  {
   "cell_type": "code",
   "execution_count": 42,
   "metadata": {},
   "outputs": [
    {
     "data": {
      "image/png": "[encoded data removed]",
      "text/plain": [
       "<Figure size 450x600 with 1 Axes>"
      ]
     },
     "metadata": {},
     "output_type": "display_data"
    }
   ],
   "source": [
    "fig, ax = plt.subplots(1, 1, figsize=(3, 4))\n",
    "plot_consensus(consensus, \"Kelch13\", ax=ax, cols=cols)\n",
    "\n",
    "if save_figs:\n",
    "    fig.savefig(os.path.join(fig_dir, \"consensus_kelch13.png\"),\n",
    "                bbox_inches=\"tight\", pad_inches=0.5)"
   ]
  },
  {
   "cell_type": "markdown",
   "metadata": {},
   "source": [
    "### 1b $DHFR$"
   ]
  },
  {
   "cell_type": "code",
   "execution_count": 43,
   "metadata": {},
   "outputs": [],
   "source": [
    "cntrl_fn = cntrl_sample + \".DHFR.nt_error.csv\"\n",
    "cntrl_path = os.path.join(expt_dir, cntrl_fn)"
   ]
  },
  {
   "cell_type": "code",
   "execution_count": 44,
   "metadata": {},
   "outputs": [],
   "source": [
    "error_df = pd.read_csv(cntrl_path)\n",
    "error_df = convert_to_frequencies(error_df, \"total\", [\"position\", \"ref\", \"total\"])"
   ]
  },
  {
   "cell_type": "code",
   "execution_count": 45,
   "metadata": {},
   "outputs": [
    {
     "data": {
      "text/html": [
       "<div>\n",
       "<style scoped>\n",
       "    .dataframe tbody tr th:only-of-type {\n",
       "        vertical-align: middle;\n",
       "    }\n",
       "\n",
       "    .dataframe tbody tr th {\n",
       "        vertical-align: top;\n",
       "    }\n",
       "\n",
       "    .dataframe thead th {\n",
       "        text-align: right;\n",
       "    }\n",
       "</style>\n",
       "<table border=\"1\" class=\"dataframe\">\n",
       "  <thead>\n",
       "    <tr style=\"text-align: right;\">\n",
       "      <th></th>\n",
       "      <th>position</th>\n",
       "      <th>ref</th>\n",
       "      <th>total</th>\n",
       "      <th>A</th>\n",
       "      <th>T</th>\n",
       "      <th>C</th>\n",
       "      <th>G</th>\n",
       "      <th>-</th>\n",
       "      <th>+</th>\n",
       "      <th>SNV</th>\n",
       "      <th>error</th>\n",
       "    </tr>\n",
       "  </thead>\n",
       "  <tbody>\n",
       "    <tr>\n",
       "      <th>0</th>\n",
       "      <td>0</td>\n",
       "      <td>A</td>\n",
       "      <td>8312</td>\n",
       "      <td>0.919755</td>\n",
       "      <td>0.002767</td>\n",
       "      <td>0.004451</td>\n",
       "      <td>0.015881</td>\n",
       "      <td>0.051853</td>\n",
       "      <td>0.005294</td>\n",
       "      <td>0.023099</td>\n",
       "      <td>0.080245</td>\n",
       "    </tr>\n",
       "    <tr>\n",
       "      <th>1</th>\n",
       "      <td>1</td>\n",
       "      <td>T</td>\n",
       "      <td>8288</td>\n",
       "      <td>0.008808</td>\n",
       "      <td>0.926520</td>\n",
       "      <td>0.011100</td>\n",
       "      <td>0.003378</td>\n",
       "      <td>0.041023</td>\n",
       "      <td>0.009170</td>\n",
       "      <td>0.023287</td>\n",
       "      <td>0.073480</td>\n",
       "    </tr>\n",
       "    <tr>\n",
       "      <th>2</th>\n",
       "      <td>2</td>\n",
       "      <td>G</td>\n",
       "      <td>8209</td>\n",
       "      <td>0.002315</td>\n",
       "      <td>0.001827</td>\n",
       "      <td>0.003776</td>\n",
       "      <td>0.956998</td>\n",
       "      <td>0.031429</td>\n",
       "      <td>0.003655</td>\n",
       "      <td>0.007918</td>\n",
       "      <td>0.043002</td>\n",
       "    </tr>\n",
       "    <tr>\n",
       "      <th>3</th>\n",
       "      <td>3</td>\n",
       "      <td>A</td>\n",
       "      <td>8231</td>\n",
       "      <td>0.958207</td>\n",
       "      <td>0.003645</td>\n",
       "      <td>0.001944</td>\n",
       "      <td>0.008140</td>\n",
       "      <td>0.018953</td>\n",
       "      <td>0.009112</td>\n",
       "      <td>0.013729</td>\n",
       "      <td>0.041793</td>\n",
       "    </tr>\n",
       "    <tr>\n",
       "      <th>4</th>\n",
       "      <td>4</td>\n",
       "      <td>T</td>\n",
       "      <td>8522</td>\n",
       "      <td>0.000587</td>\n",
       "      <td>0.932058</td>\n",
       "      <td>0.005985</td>\n",
       "      <td>0.002347</td>\n",
       "      <td>0.041422</td>\n",
       "      <td>0.017602</td>\n",
       "      <td>0.008918</td>\n",
       "      <td>0.067942</td>\n",
       "    </tr>\n",
       "  </tbody>\n",
       "</table>\n",
       "</div>"
      ],
      "text/plain": [
       "   position ref  total         A         T         C         G         -  \\\n",
       "0         0   A   8312  0.919755  0.002767  0.004451  0.015881  0.051853   \n",
       "1         1   T   8288  0.008808  0.926520  0.011100  0.003378  0.041023   \n",
       "2         2   G   8209  0.002315  0.001827  0.003776  0.956998  0.031429   \n",
       "3         3   A   8231  0.958207  0.003645  0.001944  0.008140  0.018953   \n",
       "4         4   T   8522  0.000587  0.932058  0.005985  0.002347  0.041422   \n",
       "\n",
       "          +       SNV     error  \n",
       "0  0.005294  0.023099  0.080245  \n",
       "1  0.009170  0.023287  0.073480  \n",
       "2  0.003655  0.007918  0.043002  \n",
       "3  0.009112  0.013729  0.041793  \n",
       "4  0.017602  0.008918  0.067942  "
      ]
     },
     "execution_count": 45,
     "metadata": {},
     "output_type": "execute_result"
    }
   ],
   "source": [
    "error_df.head()"
   ]
  },
  {
   "cell_type": "code",
   "execution_count": 46,
   "metadata": {},
   "outputs": [],
   "source": [
    "error_df[\"call\"] = error_df[[\"A\", \"T\", \"C\", \"G\", \"-\", \"+\"]].idxmax(1)"
   ]
  },
  {
   "cell_type": "code",
   "execution_count": 47,
   "metadata": {},
   "outputs": [
    {
     "data": {
      "text/html": [
       "<div>\n",
       "<style scoped>\n",
       "    .dataframe tbody tr th:only-of-type {\n",
       "        vertical-align: middle;\n",
       "    }\n",
       "\n",
       "    .dataframe tbody tr th {\n",
       "        vertical-align: top;\n",
       "    }\n",
       "\n",
       "    .dataframe thead th {\n",
       "        text-align: right;\n",
       "    }\n",
       "</style>\n",
       "<table border=\"1\" class=\"dataframe\">\n",
       "  <thead>\n",
       "    <tr style=\"text-align: right;\">\n",
       "      <th></th>\n",
       "      <th>position</th>\n",
       "      <th>ref</th>\n",
       "      <th>total</th>\n",
       "      <th>A</th>\n",
       "      <th>T</th>\n",
       "      <th>C</th>\n",
       "      <th>G</th>\n",
       "      <th>-</th>\n",
       "      <th>+</th>\n",
       "      <th>SNV</th>\n",
       "      <th>error</th>\n",
       "      <th>call</th>\n",
       "    </tr>\n",
       "  </thead>\n",
       "  <tbody>\n",
       "  </tbody>\n",
       "</table>\n",
       "</div>"
      ],
      "text/plain": [
       "Empty DataFrame\n",
       "Columns: [position, ref, total, A, T, C, G, -, +, SNV, error, call]\n",
       "Index: []"
      ]
     },
     "execution_count": 47,
     "metadata": {},
     "output_type": "execute_result"
    }
   ],
   "source": [
    "error_df.query(\"call == '+'\")  # there are no consensus insertions"
   ]
  },
  {
   "cell_type": "code",
   "execution_count": 48,
   "metadata": {},
   "outputs": [],
   "source": [
    "consensus = pd.crosstab(index=error_df[\"ref\"], columns=error_df[\"call\"])\n",
    "consensus = consensus.reindex([\"A\", \"T\", \"C\", \"G\"])[[\"A\", \"T\", \"C\", \"G\", \"-\"]]"
   ]
  },
  {
   "cell_type": "code",
   "execution_count": 49,
   "metadata": {},
   "outputs": [
    {
     "data": {
      "text/html": [
       "<div>\n",
       "<style scoped>\n",
       "    .dataframe tbody tr th:only-of-type {\n",
       "        vertical-align: middle;\n",
       "    }\n",
       "\n",
       "    .dataframe tbody tr th {\n",
       "        vertical-align: top;\n",
       "    }\n",
       "\n",
       "    .dataframe thead th {\n",
       "        text-align: right;\n",
       "    }\n",
       "</style>\n",
       "<table border=\"1\" class=\"dataframe\">\n",
       "  <thead>\n",
       "    <tr style=\"text-align: right;\">\n",
       "      <th>call</th>\n",
       "      <th>A</th>\n",
       "      <th>T</th>\n",
       "      <th>C</th>\n",
       "      <th>G</th>\n",
       "      <th>-</th>\n",
       "    </tr>\n",
       "    <tr>\n",
       "      <th>ref</th>\n",
       "      <th></th>\n",
       "      <th></th>\n",
       "      <th></th>\n",
       "      <th></th>\n",
       "      <th></th>\n",
       "    </tr>\n",
       "  </thead>\n",
       "  <tbody>\n",
       "    <tr>\n",
       "      <th>A</th>\n",
       "      <td>747</td>\n",
       "      <td>0</td>\n",
       "      <td>0</td>\n",
       "      <td>0</td>\n",
       "      <td>6</td>\n",
       "    </tr>\n",
       "    <tr>\n",
       "      <th>T</th>\n",
       "      <td>0</td>\n",
       "      <td>611</td>\n",
       "      <td>0</td>\n",
       "      <td>0</td>\n",
       "      <td>0</td>\n",
       "    </tr>\n",
       "    <tr>\n",
       "      <th>C</th>\n",
       "      <td>0</td>\n",
       "      <td>0</td>\n",
       "      <td>171</td>\n",
       "      <td>0</td>\n",
       "      <td>0</td>\n",
       "    </tr>\n",
       "    <tr>\n",
       "      <th>G</th>\n",
       "      <td>0</td>\n",
       "      <td>0</td>\n",
       "      <td>0</td>\n",
       "      <td>291</td>\n",
       "      <td>1</td>\n",
       "    </tr>\n",
       "  </tbody>\n",
       "</table>\n",
       "</div>"
      ],
      "text/plain": [
       "call    A    T    C    G  -\n",
       "ref                        \n",
       "A     747    0    0    0  6\n",
       "T       0  611    0    0  0\n",
       "C       0    0  171    0  0\n",
       "G       0    0    0  291  1"
      ]
     },
     "execution_count": 49,
     "metadata": {},
     "output_type": "execute_result"
    }
   ],
   "source": [
    "consensus"
   ]
  },
  {
   "cell_type": "code",
   "execution_count": 50,
   "metadata": {},
   "outputs": [],
   "source": [
    "cols = sns.color_palette(sns.color_palette(\"Paired\", 4) + [\"grey\"])"
   ]
  },
  {
   "cell_type": "code",
   "execution_count": 51,
   "metadata": {},
   "outputs": [
    {
     "data": {
      "image/png": "[encoded data removed]",
      "text/plain": [
       "<Figure size 450x600 with 1 Axes>"
      ]
     },
     "metadata": {},
     "output_type": "display_data"
    }
   ],
   "source": [
    "fig, ax = plt.subplots(1, 1, figsize=(3, 4))\n",
    "plot_consensus(consensus, \"DHFR\", ax=ax, cols=cols)\n",
    "\n",
    "if save_figs:\n",
    "    fig.savefig(os.path.join(fig_dir, \"consensus_dhfr.png\"),\n",
    "                bbox_inches=\"tight\", pad_inches=0.5)"
   ]
  },
  {
   "cell_type": "markdown",
   "metadata": {},
   "source": [
    "### 1c $CRT1$\n",
    "\n",
    "Note that for $CRT1$, we do not have the full gene."
   ]
  },
  {
   "cell_type": "code",
   "execution_count": 52,
   "metadata": {},
   "outputs": [],
   "source": [
    "cntrl_fn = cntrl_sample + \".CRT.nt_error.csv\"\n",
    "cntrl_path = os.path.join(expt_dir, cntrl_fn)"
   ]
  },
  {
   "cell_type": "code",
   "execution_count": 53,
   "metadata": {},
   "outputs": [],
   "source": [
    "error_df = pd.read_csv(cntrl_path)\n",
    "error_df = convert_to_frequencies(error_df, \"total\", [\"position\", \"ref\", \"total\"])"
   ]
  },
  {
   "cell_type": "code",
   "execution_count": 54,
   "metadata": {},
   "outputs": [],
   "source": [
    "error_df.query(\"total > 1\", inplace=True)  # Limit to regions with coverage"
   ]
  },
  {
   "cell_type": "code",
   "execution_count": 55,
   "metadata": {},
   "outputs": [
    {
     "data": {
      "text/html": [
       "<div>\n",
       "<style scoped>\n",
       "    .dataframe tbody tr th:only-of-type {\n",
       "        vertical-align: middle;\n",
       "    }\n",
       "\n",
       "    .dataframe tbody tr th {\n",
       "        vertical-align: top;\n",
       "    }\n",
       "\n",
       "    .dataframe thead th {\n",
       "        text-align: right;\n",
       "    }\n",
       "</style>\n",
       "<table border=\"1\" class=\"dataframe\">\n",
       "  <thead>\n",
       "    <tr style=\"text-align: right;\">\n",
       "      <th></th>\n",
       "      <th>position</th>\n",
       "      <th>ref</th>\n",
       "      <th>total</th>\n",
       "      <th>A</th>\n",
       "      <th>T</th>\n",
       "      <th>C</th>\n",
       "      <th>G</th>\n",
       "      <th>-</th>\n",
       "      <th>+</th>\n",
       "      <th>SNV</th>\n",
       "      <th>error</th>\n",
       "    </tr>\n",
       "  </thead>\n",
       "  <tbody>\n",
       "    <tr>\n",
       "      <th>0</th>\n",
       "      <td>0</td>\n",
       "      <td>A</td>\n",
       "      <td>8248</td>\n",
       "      <td>0.938046</td>\n",
       "      <td>0.006547</td>\n",
       "      <td>0.004122</td>\n",
       "      <td>0.012245</td>\n",
       "      <td>0.031887</td>\n",
       "      <td>0.007153</td>\n",
       "      <td>0.022915</td>\n",
       "      <td>0.061954</td>\n",
       "    </tr>\n",
       "    <tr>\n",
       "      <th>1</th>\n",
       "      <td>1</td>\n",
       "      <td>T</td>\n",
       "      <td>8495</td>\n",
       "      <td>0.007298</td>\n",
       "      <td>0.905238</td>\n",
       "      <td>0.008476</td>\n",
       "      <td>0.005533</td>\n",
       "      <td>0.055915</td>\n",
       "      <td>0.017540</td>\n",
       "      <td>0.021307</td>\n",
       "      <td>0.094762</td>\n",
       "    </tr>\n",
       "    <tr>\n",
       "      <th>2</th>\n",
       "      <td>2</td>\n",
       "      <td>G</td>\n",
       "      <td>8840</td>\n",
       "      <td>0.009955</td>\n",
       "      <td>0.003620</td>\n",
       "      <td>0.006222</td>\n",
       "      <td>0.859615</td>\n",
       "      <td>0.110633</td>\n",
       "      <td>0.009955</td>\n",
       "      <td>0.019796</td>\n",
       "      <td>0.140385</td>\n",
       "    </tr>\n",
       "    <tr>\n",
       "      <th>3</th>\n",
       "      <td>3</td>\n",
       "      <td>A</td>\n",
       "      <td>8187</td>\n",
       "      <td>0.882741</td>\n",
       "      <td>0.005374</td>\n",
       "      <td>0.004275</td>\n",
       "      <td>0.011237</td>\n",
       "      <td>0.090143</td>\n",
       "      <td>0.006229</td>\n",
       "      <td>0.020887</td>\n",
       "      <td>0.117259</td>\n",
       "    </tr>\n",
       "    <tr>\n",
       "      <th>4</th>\n",
       "      <td>4</td>\n",
       "      <td>A</td>\n",
       "      <td>8328</td>\n",
       "      <td>0.930716</td>\n",
       "      <td>0.003842</td>\n",
       "      <td>0.003722</td>\n",
       "      <td>0.011888</td>\n",
       "      <td>0.043348</td>\n",
       "      <td>0.006484</td>\n",
       "      <td>0.019452</td>\n",
       "      <td>0.069284</td>\n",
       "    </tr>\n",
       "  </tbody>\n",
       "</table>\n",
       "</div>"
      ],
      "text/plain": [
       "   position ref  total         A         T         C         G         -  \\\n",
       "0         0   A   8248  0.938046  0.006547  0.004122  0.012245  0.031887   \n",
       "1         1   T   8495  0.007298  0.905238  0.008476  0.005533  0.055915   \n",
       "2         2   G   8840  0.009955  0.003620  0.006222  0.859615  0.110633   \n",
       "3         3   A   8187  0.882741  0.005374  0.004275  0.011237  0.090143   \n",
       "4         4   A   8328  0.930716  0.003842  0.003722  0.011888  0.043348   \n",
       "\n",
       "          +       SNV     error  \n",
       "0  0.007153  0.022915  0.061954  \n",
       "1  0.017540  0.021307  0.094762  \n",
       "2  0.009955  0.019796  0.140385  \n",
       "3  0.006229  0.020887  0.117259  \n",
       "4  0.006484  0.019452  0.069284  "
      ]
     },
     "execution_count": 55,
     "metadata": {},
     "output_type": "execute_result"
    }
   ],
   "source": [
    "error_df.head()"
   ]
  },
  {
   "cell_type": "code",
   "execution_count": 56,
   "metadata": {},
   "outputs": [],
   "source": [
    "error_df[\"call\"] = error_df[[\"A\", \"T\", \"C\", \"G\", \"-\", \"+\"]].idxmax(1)"
   ]
  },
  {
   "cell_type": "code",
   "execution_count": 57,
   "metadata": {},
   "outputs": [
    {
     "data": {
      "text/html": [
       "<div>\n",
       "<style scoped>\n",
       "    .dataframe tbody tr th:only-of-type {\n",
       "        vertical-align: middle;\n",
       "    }\n",
       "\n",
       "    .dataframe tbody tr th {\n",
       "        vertical-align: top;\n",
       "    }\n",
       "\n",
       "    .dataframe thead th {\n",
       "        text-align: right;\n",
       "    }\n",
       "</style>\n",
       "<table border=\"1\" class=\"dataframe\">\n",
       "  <thead>\n",
       "    <tr style=\"text-align: right;\">\n",
       "      <th></th>\n",
       "      <th>position</th>\n",
       "      <th>ref</th>\n",
       "      <th>total</th>\n",
       "      <th>A</th>\n",
       "      <th>T</th>\n",
       "      <th>C</th>\n",
       "      <th>G</th>\n",
       "      <th>-</th>\n",
       "      <th>+</th>\n",
       "      <th>SNV</th>\n",
       "      <th>error</th>\n",
       "      <th>call</th>\n",
       "    </tr>\n",
       "  </thead>\n",
       "  <tbody>\n",
       "  </tbody>\n",
       "</table>\n",
       "</div>"
      ],
      "text/plain": [
       "Empty DataFrame\n",
       "Columns: [position, ref, total, A, T, C, G, -, +, SNV, error, call]\n",
       "Index: []"
      ]
     },
     "execution_count": 57,
     "metadata": {},
     "output_type": "execute_result"
    }
   ],
   "source": [
    "error_df.query(\"call == '+'\")  # there are no consensus insertions"
   ]
  },
  {
   "cell_type": "code",
   "execution_count": 58,
   "metadata": {},
   "outputs": [],
   "source": [
    "consensus = pd.crosstab(index=error_df[\"ref\"], columns=error_df[\"call\"])\n",
    "consensus = consensus.reindex([\"A\", \"T\", \"C\", \"G\"])[[\"A\", \"T\", \"C\", \"G\", \"-\"]]"
   ]
  },
  {
   "cell_type": "code",
   "execution_count": 59,
   "metadata": {},
   "outputs": [
    {
     "data": {
      "text/html": [
       "<div>\n",
       "<style scoped>\n",
       "    .dataframe tbody tr th:only-of-type {\n",
       "        vertical-align: middle;\n",
       "    }\n",
       "\n",
       "    .dataframe tbody tr th {\n",
       "        vertical-align: top;\n",
       "    }\n",
       "\n",
       "    .dataframe thead th {\n",
       "        text-align: right;\n",
       "    }\n",
       "</style>\n",
       "<table border=\"1\" class=\"dataframe\">\n",
       "  <thead>\n",
       "    <tr style=\"text-align: right;\">\n",
       "      <th>call</th>\n",
       "      <th>A</th>\n",
       "      <th>T</th>\n",
       "      <th>C</th>\n",
       "      <th>G</th>\n",
       "      <th>-</th>\n",
       "    </tr>\n",
       "    <tr>\n",
       "      <th>ref</th>\n",
       "      <th></th>\n",
       "      <th></th>\n",
       "      <th></th>\n",
       "      <th></th>\n",
       "      <th></th>\n",
       "    </tr>\n",
       "  </thead>\n",
       "  <tbody>\n",
       "    <tr>\n",
       "      <th>A</th>\n",
       "      <td>312</td>\n",
       "      <td>0</td>\n",
       "      <td>0</td>\n",
       "      <td>0</td>\n",
       "      <td>4</td>\n",
       "    </tr>\n",
       "    <tr>\n",
       "      <th>T</th>\n",
       "      <td>0</td>\n",
       "      <td>339</td>\n",
       "      <td>0</td>\n",
       "      <td>0</td>\n",
       "      <td>0</td>\n",
       "    </tr>\n",
       "    <tr>\n",
       "      <th>C</th>\n",
       "      <td>0</td>\n",
       "      <td>0</td>\n",
       "      <td>115</td>\n",
       "      <td>0</td>\n",
       "      <td>0</td>\n",
       "    </tr>\n",
       "    <tr>\n",
       "      <th>G</th>\n",
       "      <td>0</td>\n",
       "      <td>0</td>\n",
       "      <td>0</td>\n",
       "      <td>127</td>\n",
       "      <td>0</td>\n",
       "    </tr>\n",
       "  </tbody>\n",
       "</table>\n",
       "</div>"
      ],
      "text/plain": [
       "call    A    T    C    G  -\n",
       "ref                        \n",
       "A     312    0    0    0  4\n",
       "T       0  339    0    0  0\n",
       "C       0    0  115    0  0\n",
       "G       0    0    0  127  0"
      ]
     },
     "execution_count": 59,
     "metadata": {},
     "output_type": "execute_result"
    }
   ],
   "source": [
    "consensus"
   ]
  },
  {
   "cell_type": "code",
   "execution_count": 60,
   "metadata": {},
   "outputs": [],
   "source": [
    "cols = sns.color_palette(sns.color_palette(\"Paired\", 4) + [\"grey\"])"
   ]
  },
  {
   "cell_type": "code",
   "execution_count": 61,
   "metadata": {},
   "outputs": [
    {
     "data": {
      "image/png": "[encoded data removed]",
      "text/plain": [
       "<Figure size 450x600 with 1 Axes>"
      ]
     },
     "metadata": {},
     "output_type": "display_data"
    }
   ],
   "source": [
    "fig, ax = plt.subplots(1, 1, figsize=(3, 4))\n",
    "plot_consensus(consensus, \"CRT1\", ax=ax, cols=cols)\n",
    "\n",
    "if save_figs:\n",
    "    fig.savefig(os.path.join(fig_dir, \"consensus_crt.png\"),\n",
    "                bbox_inches=\"tight\", pad_inches=0.5)"
   ]
  },
  {
   "cell_type": "markdown",
   "metadata": {},
   "source": [
    "### 1d $MSP2$"
   ]
  },
  {
   "cell_type": "code",
   "execution_count": 62,
   "metadata": {},
   "outputs": [],
   "source": [
    "cntrl_fn = cntrl_sample + \".MSP2.reverse.nt_error.csv\"\n",
    "cntrl_path = os.path.join(expt_dir, cntrl_fn)"
   ]
  },
  {
   "cell_type": "code",
   "execution_count": 63,
   "metadata": {},
   "outputs": [],
   "source": [
    "error_df = pd.read_csv(cntrl_path)\n",
    "error_df = convert_to_frequencies(error_df, \"total\", [\"position\", \"ref\", \"total\"])"
   ]
  },
  {
   "cell_type": "code",
   "execution_count": 64,
   "metadata": {},
   "outputs": [],
   "source": [
    "error_df.query(\"total > 1\", inplace=True)  # Limit to regions with coverage"
   ]
  },
  {
   "cell_type": "code",
   "execution_count": 65,
   "metadata": {},
   "outputs": [
    {
     "data": {
      "text/html": [
       "<div>\n",
       "<style scoped>\n",
       "    .dataframe tbody tr th:only-of-type {\n",
       "        vertical-align: middle;\n",
       "    }\n",
       "\n",
       "    .dataframe tbody tr th {\n",
       "        vertical-align: top;\n",
       "    }\n",
       "\n",
       "    .dataframe thead th {\n",
       "        text-align: right;\n",
       "    }\n",
       "</style>\n",
       "<table border=\"1\" class=\"dataframe\">\n",
       "  <thead>\n",
       "    <tr style=\"text-align: right;\">\n",
       "      <th></th>\n",
       "      <th>position</th>\n",
       "      <th>ref</th>\n",
       "      <th>total</th>\n",
       "      <th>A</th>\n",
       "      <th>T</th>\n",
       "      <th>C</th>\n",
       "      <th>G</th>\n",
       "      <th>-</th>\n",
       "      <th>+</th>\n",
       "      <th>SNV</th>\n",
       "      <th>error</th>\n",
       "    </tr>\n",
       "  </thead>\n",
       "  <tbody>\n",
       "    <tr>\n",
       "      <th>0</th>\n",
       "      <td>0</td>\n",
       "      <td>A</td>\n",
       "      <td>8232</td>\n",
       "      <td>0.812318</td>\n",
       "      <td>0.006803</td>\n",
       "      <td>0.006560</td>\n",
       "      <td>0.002915</td>\n",
       "      <td>0.166059</td>\n",
       "      <td>0.005345</td>\n",
       "      <td>0.016278</td>\n",
       "      <td>0.187682</td>\n",
       "    </tr>\n",
       "    <tr>\n",
       "      <th>1</th>\n",
       "      <td>1</td>\n",
       "      <td>T</td>\n",
       "      <td>9802</td>\n",
       "      <td>0.007243</td>\n",
       "      <td>0.800041</td>\n",
       "      <td>0.004285</td>\n",
       "      <td>0.001938</td>\n",
       "      <td>0.144766</td>\n",
       "      <td>0.041726</td>\n",
       "      <td>0.013467</td>\n",
       "      <td>0.199959</td>\n",
       "    </tr>\n",
       "    <tr>\n",
       "      <th>2</th>\n",
       "      <td>2</td>\n",
       "      <td>G</td>\n",
       "      <td>8586</td>\n",
       "      <td>0.013394</td>\n",
       "      <td>0.003843</td>\n",
       "      <td>0.001514</td>\n",
       "      <td>0.901118</td>\n",
       "      <td>0.044375</td>\n",
       "      <td>0.035756</td>\n",
       "      <td>0.018751</td>\n",
       "      <td>0.098882</td>\n",
       "    </tr>\n",
       "    <tr>\n",
       "      <th>3</th>\n",
       "      <td>3</td>\n",
       "      <td>A</td>\n",
       "      <td>8369</td>\n",
       "      <td>0.933086</td>\n",
       "      <td>0.003107</td>\n",
       "      <td>0.002270</td>\n",
       "      <td>0.010873</td>\n",
       "      <td>0.042538</td>\n",
       "      <td>0.008125</td>\n",
       "      <td>0.016250</td>\n",
       "      <td>0.066914</td>\n",
       "    </tr>\n",
       "    <tr>\n",
       "      <th>4</th>\n",
       "      <td>4</td>\n",
       "      <td>A</td>\n",
       "      <td>8350</td>\n",
       "      <td>0.891617</td>\n",
       "      <td>0.007665</td>\n",
       "      <td>0.000958</td>\n",
       "      <td>0.011257</td>\n",
       "      <td>0.074611</td>\n",
       "      <td>0.013892</td>\n",
       "      <td>0.019880</td>\n",
       "      <td>0.108383</td>\n",
       "    </tr>\n",
       "  </tbody>\n",
       "</table>\n",
       "</div>"
      ],
      "text/plain": [
       "   position ref  total         A         T         C         G         -  \\\n",
       "0         0   A   8232  0.812318  0.006803  0.006560  0.002915  0.166059   \n",
       "1         1   T   9802  0.007243  0.800041  0.004285  0.001938  0.144766   \n",
       "2         2   G   8586  0.013394  0.003843  0.001514  0.901118  0.044375   \n",
       "3         3   A   8369  0.933086  0.003107  0.002270  0.010873  0.042538   \n",
       "4         4   A   8350  0.891617  0.007665  0.000958  0.011257  0.074611   \n",
       "\n",
       "          +       SNV     error  \n",
       "0  0.005345  0.016278  0.187682  \n",
       "1  0.041726  0.013467  0.199959  \n",
       "2  0.035756  0.018751  0.098882  \n",
       "3  0.008125  0.016250  0.066914  \n",
       "4  0.013892  0.019880  0.108383  "
      ]
     },
     "execution_count": 65,
     "metadata": {},
     "output_type": "execute_result"
    }
   ],
   "source": [
    "error_df.head()"
   ]
  },
  {
   "cell_type": "code",
   "execution_count": 66,
   "metadata": {},
   "outputs": [],
   "source": [
    "error_df[\"call\"] = error_df[[\"A\", \"T\", \"C\", \"G\", \"-\", \"+\"]].idxmax(1)"
   ]
  },
  {
   "cell_type": "code",
   "execution_count": 67,
   "metadata": {},
   "outputs": [
    {
     "data": {
      "text/html": [
       "<div>\n",
       "<style scoped>\n",
       "    .dataframe tbody tr th:only-of-type {\n",
       "        vertical-align: middle;\n",
       "    }\n",
       "\n",
       "    .dataframe tbody tr th {\n",
       "        vertical-align: top;\n",
       "    }\n",
       "\n",
       "    .dataframe thead th {\n",
       "        text-align: right;\n",
       "    }\n",
       "</style>\n",
       "<table border=\"1\" class=\"dataframe\">\n",
       "  <thead>\n",
       "    <tr style=\"text-align: right;\">\n",
       "      <th></th>\n",
       "      <th>position</th>\n",
       "      <th>ref</th>\n",
       "      <th>total</th>\n",
       "      <th>A</th>\n",
       "      <th>T</th>\n",
       "      <th>C</th>\n",
       "      <th>G</th>\n",
       "      <th>-</th>\n",
       "      <th>+</th>\n",
       "      <th>SNV</th>\n",
       "      <th>error</th>\n",
       "      <th>call</th>\n",
       "    </tr>\n",
       "  </thead>\n",
       "  <tbody>\n",
       "  </tbody>\n",
       "</table>\n",
       "</div>"
      ],
      "text/plain": [
       "Empty DataFrame\n",
       "Columns: [position, ref, total, A, T, C, G, -, +, SNV, error, call]\n",
       "Index: []"
      ]
     },
     "execution_count": 67,
     "metadata": {},
     "output_type": "execute_result"
    }
   ],
   "source": [
    "error_df.query(\"call == '+'\")  # there are no consensus insertions"
   ]
  },
  {
   "cell_type": "code",
   "execution_count": 68,
   "metadata": {},
   "outputs": [],
   "source": [
    "consensus = pd.crosstab(index=error_df[\"ref\"], columns=error_df[\"call\"])\n",
    "consensus = consensus.reindex([\"A\", \"T\", \"C\", \"G\"])[[\"A\", \"T\", \"C\", \"G\", \"-\"]]"
   ]
  },
  {
   "cell_type": "code",
   "execution_count": 69,
   "metadata": {},
   "outputs": [
    {
     "data": {
      "text/html": [
       "<div>\n",
       "<style scoped>\n",
       "    .dataframe tbody tr th:only-of-type {\n",
       "        vertical-align: middle;\n",
       "    }\n",
       "\n",
       "    .dataframe tbody tr th {\n",
       "        vertical-align: top;\n",
       "    }\n",
       "\n",
       "    .dataframe thead th {\n",
       "        text-align: right;\n",
       "    }\n",
       "</style>\n",
       "<table border=\"1\" class=\"dataframe\">\n",
       "  <thead>\n",
       "    <tr style=\"text-align: right;\">\n",
       "      <th>call</th>\n",
       "      <th>A</th>\n",
       "      <th>T</th>\n",
       "      <th>C</th>\n",
       "      <th>G</th>\n",
       "      <th>-</th>\n",
       "    </tr>\n",
       "    <tr>\n",
       "      <th>ref</th>\n",
       "      <th></th>\n",
       "      <th></th>\n",
       "      <th></th>\n",
       "      <th></th>\n",
       "      <th></th>\n",
       "    </tr>\n",
       "  </thead>\n",
       "  <tbody>\n",
       "    <tr>\n",
       "      <th>A</th>\n",
       "      <td>304</td>\n",
       "      <td>0</td>\n",
       "      <td>0</td>\n",
       "      <td>0</td>\n",
       "      <td>0</td>\n",
       "    </tr>\n",
       "    <tr>\n",
       "      <th>T</th>\n",
       "      <td>0</td>\n",
       "      <td>215</td>\n",
       "      <td>0</td>\n",
       "      <td>0</td>\n",
       "      <td>0</td>\n",
       "    </tr>\n",
       "    <tr>\n",
       "      <th>C</th>\n",
       "      <td>0</td>\n",
       "      <td>0</td>\n",
       "      <td>155</td>\n",
       "      <td>0</td>\n",
       "      <td>1</td>\n",
       "    </tr>\n",
       "    <tr>\n",
       "      <th>G</th>\n",
       "      <td>0</td>\n",
       "      <td>0</td>\n",
       "      <td>0</td>\n",
       "      <td>144</td>\n",
       "      <td>0</td>\n",
       "    </tr>\n",
       "  </tbody>\n",
       "</table>\n",
       "</div>"
      ],
      "text/plain": [
       "call    A    T    C    G  -\n",
       "ref                        \n",
       "A     304    0    0    0  0\n",
       "T       0  215    0    0  0\n",
       "C       0    0  155    0  1\n",
       "G       0    0    0  144  0"
      ]
     },
     "execution_count": 69,
     "metadata": {},
     "output_type": "execute_result"
    }
   ],
   "source": [
    "consensus"
   ]
  },
  {
   "cell_type": "code",
   "execution_count": 70,
   "metadata": {},
   "outputs": [],
   "source": [
    "cols = sns.color_palette(sns.color_palette(\"Paired\", 4) + [\"grey\"])"
   ]
  },
  {
   "cell_type": "code",
   "execution_count": 71,
   "metadata": {},
   "outputs": [
    {
     "data": {
      "image/png": "[encoded data removed]",
      "text/plain": [
       "<Figure size 450x600 with 1 Axes>"
      ]
     },
     "metadata": {},
     "output_type": "display_data"
    }
   ],
   "source": [
    "fig, ax = plt.subplots(1, 1, figsize=(3, 4))\n",
    "plot_consensus(consensus, \"MSP2\", ax=ax, cols=cols)\n",
    "\n",
    "if save_figs:\n",
    "    fig.savefig(os.path.join(fig_dir, \"consensus_msp2.png\"),\n",
    "                bbox_inches=\"tight\", pad_inches=0.5)"
   ]
  },
  {
   "cell_type": "code",
   "execution_count": null,
   "metadata": {},
   "outputs": [],
   "source": []
  }
 ],
 "metadata": {
  "kernelspec": {
   "display_name": "Python 3",
   "language": "python",
   "name": "python3"
  },
  "language_info": {
   "codemirror_mode": {
    "name": "ipython",
    "version": 3
   },
   "file_extension": ".py",
   "mimetype": "text/x-python",
   "name": "python",
   "nbconvert_exporter": "python",
   "pygments_lexer": "ipython3",
   "version": "3.6.5"
  }
 },
 "nbformat": 4,
 "nbformat_minor": 2
}
