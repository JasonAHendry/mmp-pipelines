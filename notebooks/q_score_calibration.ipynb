{
 "cells": [
  {
   "cell_type": "markdown",
   "metadata": {},
   "source": [
    "## Check the q-score calibration from `minimap2` using the 3d7 reference genome\n",
    "---"
   ]
  },
  {
   "cell_type": "code",
   "execution_count": 1,
   "metadata": {},
   "outputs": [],
   "source": [
    "import os\n",
    "import sys\n",
    "import configparser\n",
    "import getopt\n",
    "import numpy as np\n",
    "import pandas as pd\n",
    "from collections import Counter\n",
    "\n",
    "from lib.mutation import *\n",
    "from lib.error import *\n",
    "from lib.coi import *"
   ]
  },
  {
   "cell_type": "code",
   "execution_count": 2,
   "metadata": {},
   "outputs": [],
   "source": [
    "from matplotlib import patches\n",
    "from matplotlib import lines\n",
    "import matplotlib.pyplot as plt\n",
    "import seaborn as sns\n",
    "import matplotlib.gridspec as gridspec\n",
    "\n",
    "# inline stylization\n",
    "%matplotlib inline\n",
    "sns.set_style('white')\n",
    "sns.set_style('ticks')\n",
    "plt.rcParams['figure.dpi'] = 150\n",
    "plt.rcParams['savefig.dpi'] = 150\n",
    "plt.rcParams['figure.figsize'] = [4, 4]"
   ]
  },
  {
   "cell_type": "markdown",
   "metadata": {},
   "source": [
    "## 0 Settings"
   ]
  },
  {
   "cell_type": "code",
   "execution_count": 3,
   "metadata": {},
   "outputs": [],
   "source": [
    "platform = \"ont\"\n",
    "country = \"zambia\"\n",
    "date = \"2019-04-10\"\n",
    "sample = \"BC05\"\n",
    "gene = \"msp2\""
   ]
  },
  {
   "cell_type": "code",
   "execution_count": 4,
   "metadata": {},
   "outputs": [],
   "source": [
    "analysis_dir = os.path.join(\"../analysis\", platform, country, date)\n",
    "results_dir = os.path.join(\"../results\", platform, country, date)\n",
    "output_dir = os.path.join(analysis_dir, \"coi\")\n",
    "figs_dir = os.path.join(\"../figs\", platform, country, date, \"coi\")"
   ]
  },
  {
   "cell_type": "code",
   "execution_count": 5,
   "metadata": {},
   "outputs": [],
   "source": [
    "gene_ini = os.path.join(\"../data/resources/pf-regions/\", gene + \".ini\")\n",
    "gene_ini_path = os.path.dirname(gene_ini)"
   ]
  },
  {
   "cell_type": "code",
   "execution_count": 6,
   "metadata": {},
   "outputs": [],
   "source": [
    "config = configparser.ConfigParser()\n",
    "config.read(gene_ini)\n",
    "gene_dt = {}\n",
    "gene_dt[\"name\"] = config.get(\"Parameters\", \"name\")\n",
    "gene_dt[\"id\"] = config.get(\"Parameters\", \"id\")\n",
    "gene_dt[\"genome\"] = config.get(\"Parameters\", \"genome\")\n",
    "gene_dt[\"gff\"] = config.get(\"Parameters\", \"gff\")"
   ]
  },
  {
   "cell_type": "code",
   "execution_count": 7,
   "metadata": {},
   "outputs": [
    {
     "data": {
      "text/plain": [
       "['BC04.MSP2.gene_array.npy',\n",
       " 'BC05.MSP2.gene_array.npy',\n",
       " 'BC06.MSP2.gene_array.npy',\n",
       " 'BC06.MSP2.phred_array.npy',\n",
       " 'BC01.MSP2.gene_array.npy',\n",
       " 'BC01.MSP2.sam',\n",
       " 'BC03.MSP2.gene_array.npy',\n",
       " 'BC02.MSP2.gene_array.npy',\n",
       " 'BC06.MSP2.sam',\n",
       " 'BC03.MSP2.sam',\n",
       " 'BC02.MSP2.sam',\n",
       " 'BC05.MSP2.phred_array.npy',\n",
       " 'BC04.MSP2.sam',\n",
       " 'BC05.MSP2.sam']"
      ]
     },
     "execution_count": 7,
     "metadata": {},
     "output_type": "execute_result"
    }
   ],
   "source": [
    "os.listdir(output_dir)"
   ]
  },
  {
   "cell_type": "markdown",
   "metadata": {},
   "source": [
    "## 1 Load `gene_array` and `phred_array`"
   ]
  },
  {
   "cell_type": "code",
   "execution_count": 8,
   "metadata": {},
   "outputs": [],
   "source": [
    "gene_fn = \"%s.%s.gene_array.npy\" % (sample, gene_dt[\"name\"])\n",
    "phred_fn = \"%s.%s.phred_array.npy\" % (sample, gene_dt[\"name\"])"
   ]
  },
  {
   "cell_type": "code",
   "execution_count": 9,
   "metadata": {},
   "outputs": [],
   "source": [
    "gene_array = np.load(os.path.join(output_dir, gene_fn))\n",
    "phred_array = np.load(os.path.join(output_dir, phred_fn))"
   ]
  },
  {
   "cell_type": "code",
   "execution_count": 10,
   "metadata": {},
   "outputs": [
    {
     "name": "stdout",
     "output_type": "stream",
     "text": [
      "Gene array: (43228, 819)\n",
      "PHRED array: (43228, 819)\n"
     ]
    }
   ],
   "source": [
    "print(\"Gene array:\", gene_array.shape)\n",
    "print(\"PHRED array:\", phred_array.shape)"
   ]
  },
  {
   "cell_type": "code",
   "execution_count": 11,
   "metadata": {},
   "outputs": [],
   "source": [
    "prob_array = 10**(phred_array/-10)\n",
    "prob_array[prob_array > 1.0] = 1.0"
   ]
  },
  {
   "cell_type": "code",
   "execution_count": 12,
   "metadata": {},
   "outputs": [
    {
     "data": {
      "text/plain": [
       "array([[1.        , 0.15848932, 0.07943282, 0.03162278, 0.01584893,\n",
       "        0.02511886, 0.03162278, 0.03981072, 0.03162278, 0.00158489],\n",
       "       [0.00251189, 0.01995262, 0.06309573, 0.07943282, 1.        ,\n",
       "        0.05011872, 0.1       , 0.03981072, 0.00501187, 0.00251189],\n",
       "       [0.31622777, 0.39810717, 0.31622777, 0.39810717, 0.39810717,\n",
       "        1.        , 1.        , 0.19952623, 0.07943282, 0.02511886],\n",
       "       [0.01584893, 0.00316228, 0.00398107, 0.00158489, 0.01995262,\n",
       "        0.00316228, 0.02511886, 0.03981072, 0.01584893, 0.00158489],\n",
       "       [1.        , 0.15848932, 0.03981072, 0.00501187, 0.03162278,\n",
       "        0.15848932, 0.12589254, 0.12589254, 0.07943282, 0.19952623],\n",
       "       [1.        , 0.00501187, 0.00199526, 0.00199526, 0.01      ,\n",
       "        0.00316228, 0.00630957, 0.03162278, 0.02511886, 0.01584893],\n",
       "       [0.00158489, 0.02511886, 0.00199526, 0.00158489, 0.00501187,\n",
       "        0.00398107, 0.01584893, 0.02511886, 0.00398107, 0.01995262],\n",
       "       [0.25118864, 0.63095734, 0.63095734, 0.31622777, 0.63095734,\n",
       "        1.        , 1.        , 0.63095734, 0.39810717, 0.25118864],\n",
       "       [0.31622777, 0.39810717, 0.03981072, 0.00501187, 0.01995262,\n",
       "        0.12589254, 0.12589254, 0.01995262, 0.00251189, 0.01258925],\n",
       "       [0.00501187, 0.02511886, 0.00501187, 0.00158489, 0.00501187,\n",
       "        0.00501187, 0.03162278, 0.1       , 0.12589254, 0.05011872]])"
      ]
     },
     "execution_count": 12,
     "metadata": {},
     "output_type": "execute_result"
    }
   ],
   "source": [
    "prob_array[:10, :10]"
   ]
  },
  {
   "cell_type": "markdown",
   "metadata": {},
   "source": [
    "## 2 Load reference sequence"
   ]
  },
  {
   "cell_type": "code",
   "execution_count": 13,
   "metadata": {},
   "outputs": [],
   "source": [
    "gene_bed = \"../data/resources/pf-regions/%s.exons.bed\" % gene_dt[\"name\"]\n",
    "gene_fasta = gene_bed.replace(\".bed\", \".fasta\")"
   ]
  },
  {
   "cell_type": "code",
   "execution_count": 14,
   "metadata": {},
   "outputs": [],
   "source": [
    "reverse = True\n",
    "with open(gene_fasta, \"r+\") as fn:\n",
    "    for l in fn:\n",
    "        if l[0] != \">\":\n",
    "            if reverse:\n",
    "                gene_bases = [complement_map[c] for c in l.rstrip()[::-1]]\n",
    "            else:\n",
    "                gene_bases = l.rstrip()\n",
    "            ref = np.array([dna_to_ints[c] for c in gene_bases])"
   ]
  },
  {
   "cell_type": "code",
   "execution_count": 15,
   "metadata": {},
   "outputs": [
    {
     "data": {
      "text/plain": [
       "array([1, 2, 4, 1, 1, 4, 4, 2, 1, 1])"
      ]
     },
     "execution_count": 15,
     "metadata": {},
     "output_type": "execute_result"
    }
   ],
   "source": [
    "ref[:10]"
   ]
  },
  {
   "cell_type": "markdown",
   "metadata": {},
   "source": [
    "## 3 Compute error frequencies across different q-values\n",
    "\n",
    "$$ Q_{PHRED} = -10log(p_{error}) $$"
   ]
  },
  {
   "cell_type": "code",
   "execution_count": 16,
   "metadata": {},
   "outputs": [],
   "source": [
    "error_array = gene_array != ref"
   ]
  },
  {
   "cell_type": "code",
   "execution_count": 17,
   "metadata": {},
   "outputs": [],
   "source": [
    "dt = {\n",
    "    \"q\": [],\n",
    "    \"n_total\": [],\n",
    "    \"n_error\": [],\n",
    "}\n",
    "\n",
    "# COMPUTE STATISTICS FOR EVERY Q VALUE\n",
    "# Note I am ignoring deletions\n",
    "qs = np.arange(phred_array.max() + 1)  # arange goes from 0 to n - 1\n",
    "for q in qs:\n",
    "    ix = phred_array == q  # entries with a Q-value of `q`\n",
    "    dt[\"q\"].append(q)\n",
    "    dt[\"n_total\"].append(ix.sum())  # total entries\n",
    "    dt[\"n_error\"].append(error_array[ix].sum())  # error entries"
   ]
  },
  {
   "cell_type": "code",
   "execution_count": 18,
   "metadata": {},
   "outputs": [
    {
     "data": {
      "text/html": [
       "<div>\n",
       "<style scoped>\n",
       "    .dataframe tbody tr th:only-of-type {\n",
       "        vertical-align: middle;\n",
       "    }\n",
       "\n",
       "    .dataframe tbody tr th {\n",
       "        vertical-align: top;\n",
       "    }\n",
       "\n",
       "    .dataframe thead th {\n",
       "        text-align: right;\n",
       "    }\n",
       "</style>\n",
       "<table border=\"1\" class=\"dataframe\">\n",
       "  <thead>\n",
       "    <tr style=\"text-align: right;\">\n",
       "      <th></th>\n",
       "      <th>q</th>\n",
       "      <th>n_total</th>\n",
       "      <th>n_error</th>\n",
       "    </tr>\n",
       "  </thead>\n",
       "  <tbody>\n",
       "    <tr>\n",
       "      <th>0</th>\n",
       "      <td>0</td>\n",
       "      <td>0</td>\n",
       "      <td>0</td>\n",
       "    </tr>\n",
       "    <tr>\n",
       "      <th>1</th>\n",
       "      <td>1</td>\n",
       "      <td>226152</td>\n",
       "      <td>67123</td>\n",
       "    </tr>\n",
       "    <tr>\n",
       "      <th>2</th>\n",
       "      <td>2</td>\n",
       "      <td>449958</td>\n",
       "      <td>102718</td>\n",
       "    </tr>\n",
       "    <tr>\n",
       "      <th>3</th>\n",
       "      <td>3</td>\n",
       "      <td>683751</td>\n",
       "      <td>125484</td>\n",
       "    </tr>\n",
       "    <tr>\n",
       "      <th>4</th>\n",
       "      <td>4</td>\n",
       "      <td>854037</td>\n",
       "      <td>121628</td>\n",
       "    </tr>\n",
       "  </tbody>\n",
       "</table>\n",
       "</div>"
      ],
      "text/plain": [
       "   q  n_total  n_error\n",
       "0  0        0        0\n",
       "1  1   226152    67123\n",
       "2  2   449958   102718\n",
       "3  3   683751   125484\n",
       "4  4   854037   121628"
      ]
     },
     "execution_count": 18,
     "metadata": {},
     "output_type": "execute_result"
    }
   ],
   "source": [
    "df = pd.DataFrame(dt)\n",
    "df.head()"
   ]
  },
  {
   "cell_type": "code",
   "execution_count": 19,
   "metadata": {},
   "outputs": [],
   "source": [
    "df[\"p_error\"] = df[\"n_error\"]/df[\"n_total\"]\n",
    "df[\"p_phred\"] = 10**((df[\"q\"]-1)/-10)"
   ]
  },
  {
   "cell_type": "markdown",
   "metadata": {},
   "source": [
    "### a Q-score distribution"
   ]
  },
  {
   "cell_type": "code",
   "execution_count": 20,
   "metadata": {},
   "outputs": [
    {
     "data": {
      "image/png": "[encoded data removed]",
      "text/plain": [
       "<Figure size 432x216 with 2 Axes>"
      ]
     },
     "metadata": {},
     "output_type": "display_data"
    }
   ],
   "source": [
    "fig, ax = plt.subplots(1, 2, figsize=(6, 3), sharey=True, sharex=True)\n",
    "fig.subplots_adjust(wspace=0.1)\n",
    "\n",
    "# plot\n",
    "ax[0].plot(df[\"q\"], df[\"n_total\"])\n",
    "mu = phred_array[phred_array >= 0].mean()\n",
    "ax[0].axvline(mu, color='darkgrey', label=\"$\\mu$=%.02f\" % mu)\n",
    "ax[0].legend()\n",
    "\n",
    "# labels\n",
    "ax[0].set_title(\"Processed\")\n",
    "ax[0].set_ylabel(\"Counts\")\n",
    "ax[0].set_xlabel(\"Q-score\")\n",
    "\n",
    "h = ax[1].hist(phred_array.flatten(), \n",
    "               bins=np.arange(phred_array.max() + 2))  # otherwise the last bin has two values\n",
    "\n",
    "ax[1].set_title(\"Direct\")\n",
    "ax[1].set_xlabel(\"Q-score\")\n",
    "\n",
    "# save\n",
    "fig.savefig(os.path.join(figs_dir, \"%s.%s.q_dist.png\" % (sample, gene_dt[\"name\"])),\n",
    "            bbox_inches=\"tight\",\n",
    "            pad_inches=0.5)"
   ]
  },
  {
   "cell_type": "markdown",
   "metadata": {},
   "source": [
    "### b Q-score calibration"
   ]
  },
  {
   "cell_type": "code",
   "execution_count": 21,
   "metadata": {},
   "outputs": [],
   "source": [
    "import statsmodels.formula.api as smf"
   ]
  },
  {
   "cell_type": "code",
   "execution_count": 22,
   "metadata": {},
   "outputs": [],
   "source": [
    "model = smf.ols(\"p_error ~ p_phred\", df)\n",
    "result = model.fit()"
   ]
  },
  {
   "cell_type": "code",
   "execution_count": 23,
   "metadata": {},
   "outputs": [
    {
     "name": "stdout",
     "output_type": "stream",
     "text": [
      "                            OLS Regression Results                            \n",
      "==============================================================================\n",
      "Dep. Variable:                p_error   R-squared:                       0.994\n",
      "Model:                            OLS   Adj. R-squared:                  0.994\n",
      "Method:                 Least Squares   F-statistic:                     4966.\n",
      "Date:                Thu, 08 Aug 2019   Prob (F-statistic):           4.54e-33\n",
      "Time:                        15:13:20   Log-Likelihood:                 113.53\n",
      "No. Observations:                  30   AIC:                            -223.1\n",
      "Df Residuals:                      28   BIC:                            -220.3\n",
      "Df Model:                           1                                         \n",
      "Covariance Type:            nonrobust                                         \n",
      "==============================================================================\n",
      "                 coef    std err          t      P>|t|      [0.025      0.975]\n",
      "------------------------------------------------------------------------------\n",
      "Intercept     -0.0028      0.001     -2.271      0.031      -0.005      -0.000\n",
      "p_phred        0.2892      0.004     70.471      0.000       0.281       0.298\n",
      "==============================================================================\n",
      "Omnibus:                        3.749   Durbin-Watson:                   0.206\n",
      "Prob(Omnibus):                  0.153   Jarque-Bera (JB):                3.306\n",
      "Skew:                          -0.794   Prob(JB):                        0.191\n",
      "Kurtosis:                       2.652   Cond. No.                         4.06\n",
      "==============================================================================\n",
      "\n",
      "Warnings:\n",
      "[1] Standard Errors assume that the covariance matrix of the errors is correctly specified.\n"
     ]
    }
   ],
   "source": [
    "print(result.summary())"
   ]
  },
  {
   "cell_type": "code",
   "execution_count": 24,
   "metadata": {},
   "outputs": [
    {
     "data": {
      "image/png": "[encoded data removed]",
      "text/plain": [
       "<Figure size 216x216 with 1 Axes>"
      ]
     },
     "metadata": {},
     "output_type": "display_data"
    }
   ],
   "source": [
    "fig, ax = plt.subplots(1, 1, figsize=(3, 3))\n",
    "\n",
    "ax.plot(df[\"p_phred\"], df[\"p_error\"], 'o-')\n",
    "\n",
    "# additional\n",
    "ax.autoscale(False)\n",
    "ax.plot([0, 1], [0, 1], color=\"darkgrey\", label=\"identity\")\n",
    "xs = np.arange(-1.0, 2.0, 0.1)\n",
    "f = lambda x: result.params[0] + result.params[1]*x\n",
    "ax.plot(xs, list(map(f, xs)), color=\"orange\", label=\"fit, m=%.02f\" % result.params[1])\n",
    "\n",
    "# labels\n",
    "ax.set_xlabel(\"Error Probability from Q score\")\n",
    "ax.set_ylabel(\"Mismatch frequency\")\n",
    "ax.set_title(\"$MSP2$ Q-scores vs. Mismatch Frequency \\n Sample: %s\" % sample)\n",
    "\n",
    "ax.legend()\n",
    "\n",
    "# save\n",
    "fig.savefig(os.path.join(figs_dir, \"%s.%s.q_calibration.png\" % (sample, gene_dt[\"name\"])),\n",
    "            bbox_inches=\"tight\",\n",
    "            pad_inches=0.5)"
   ]
  },
  {
   "cell_type": "markdown",
   "metadata": {},
   "source": [
    "### c Do Q-scores explain poor reads?"
   ]
  },
  {
   "cell_type": "code",
   "execution_count": 25,
   "metadata": {},
   "outputs": [],
   "source": [
    "num_mismatch = error_array.sum(1)"
   ]
  },
  {
   "cell_type": "code",
   "execution_count": 26,
   "metadata": {},
   "outputs": [],
   "source": [
    "prob_array = 10**(phred_array/-10)\n",
    "prob_array[prob_array > 1.0] = 1.0  # these are the deletions\n",
    "num_mismatch_prob = prob_array.sum(1)"
   ]
  },
  {
   "cell_type": "code",
   "execution_count": 27,
   "metadata": {},
   "outputs": [],
   "source": [
    "mismatch_df = pd.DataFrame({\"empirical\": num_mismatch, \"quality\": num_mismatch_prob})"
   ]
  },
  {
   "cell_type": "code",
   "execution_count": 28,
   "metadata": {},
   "outputs": [],
   "source": [
    "model = smf.ols(\"empirical ~ quality\", mismatch_df)\n",
    "result = model.fit()"
   ]
  },
  {
   "cell_type": "code",
   "execution_count": 29,
   "metadata": {},
   "outputs": [
    {
     "name": "stdout",
     "output_type": "stream",
     "text": [
      "                            OLS Regression Results                            \n",
      "==============================================================================\n",
      "Dep. Variable:              empirical   R-squared:                       0.918\n",
      "Model:                            OLS   Adj. R-squared:                  0.918\n",
      "Method:                 Least Squares   F-statistic:                 4.858e+05\n",
      "Date:                Thu, 08 Aug 2019   Prob (F-statistic):               0.00\n",
      "Time:                        15:13:21   Log-Likelihood:            -1.6020e+05\n",
      "No. Observations:               43228   AIC:                         3.204e+05\n",
      "Df Residuals:                   43226   BIC:                         3.204e+05\n",
      "Df Model:                           1                                         \n",
      "Covariance Type:            nonrobust                                         \n",
      "==============================================================================\n",
      "                 coef    std err          t      P>|t|      [0.025      0.975]\n",
      "------------------------------------------------------------------------------\n",
      "Intercept    -25.7934      0.136   -190.121      0.000     -26.059     -25.528\n",
      "quality        0.7922      0.001    696.971      0.000       0.790       0.794\n",
      "==============================================================================\n",
      "Omnibus:                    28608.200   Durbin-Watson:                   1.966\n",
      "Prob(Omnibus):                  0.000   Jarque-Bera (JB):          1515564.458\n",
      "Skew:                           2.553   Prob(JB):                         0.00\n",
      "Kurtosis:                      31.555   Cond. No.                         342.\n",
      "==============================================================================\n",
      "\n",
      "Warnings:\n",
      "[1] Standard Errors assume that the covariance matrix of the errors is correctly specified.\n"
     ]
    }
   ],
   "source": [
    "print(result.summary())"
   ]
  },
  {
   "cell_type": "code",
   "execution_count": 30,
   "metadata": {},
   "outputs": [],
   "source": [
    "xs = np.arange(-100, 800)\n",
    "predict = result.params[0] + result.params[1]*xs"
   ]
  },
  {
   "cell_type": "code",
   "execution_count": 31,
   "metadata": {},
   "outputs": [
    {
     "data": {
      "image/png": "[encoded data removed]",
      "text/plain": [
       "<Figure size 288x288 with 1 Axes>"
      ]
     },
     "metadata": {},
     "output_type": "display_data"
    }
   ],
   "source": [
    "fig, ax = plt.subplots(1, 1, figsize=(4,4))\n",
    "\n",
    "ax.plot(mismatch_df[\"quality\"], mismatch_df[\"empirical\"], 'o', label=\"\")\n",
    "ax.autoscale(False)\n",
    "ax.plot(xs, predict, color='darkgrey', label=\"$r^2$=%.02f\" % result.rsquared)\n",
    "\n",
    "ax.axvline(mismatch_df[\"quality\"].mean(), color='black', linestyle='dashed')\n",
    "ax.axhline(mismatch_df[\"empirical\"].mean(), color='black', linestyle='dashed')\n",
    "\n",
    "ax.set_title(\"Mismatches per-read explained by Q-scores \\n in $MSP2$ coding sequence. Sample: %s\" % sample)\n",
    "ax.set_xlabel(\"Integrated Error Probability from Q\")\n",
    "ax.set_ylabel(\"Mismatch Count\")\n",
    "\n",
    "ax.set_xticks(np.arange(0, 700, 100))\n",
    "ax.set_yticks(np.arange(0, 700, 100))\n",
    "\n",
    "ax.legend()\n",
    "\n",
    "# save\n",
    "fig.savefig(os.path.join(figs_dir, \"%s.%s.q_across_reads.png\" % (sample, gene_dt[\"name\"])),\n",
    "            bbox_inches=\"tight\",\n",
    "            pad_inches=0.5)"
   ]
  },
  {
   "cell_type": "code",
   "execution_count": null,
   "metadata": {},
   "outputs": [],
   "source": []
  }
 ],
 "metadata": {
  "kernelspec": {
   "display_name": "Python 3",
   "language": "python",
   "name": "python3"
  },
  "language_info": {
   "codemirror_mode": {
    "name": "ipython",
    "version": 3
   },
   "file_extension": ".py",
   "mimetype": "text/x-python",
   "name": "python",
   "nbconvert_exporter": "python",
   "pygments_lexer": "ipython3",
   "version": "3.6.5"
  }
 },
 "nbformat": 4,
 "nbformat_minor": 2
}
