{
 "cells": [
  {
   "cell_type": "markdown",
   "metadata": {},
   "source": [
    "# Is there a bias in the way SNV errors are distributed?\n",
    "---\n",
    "\n",
    "This would suggest that error is *systematic* rather than random; or at least that it is not completely random."
   ]
  },
  {
   "cell_type": "code",
   "execution_count": 1,
   "metadata": {},
   "outputs": [],
   "source": [
    "import os\n",
    "import sys\n",
    "import configparser\n",
    "import getopt\n",
    "import numpy as np\n",
    "import pandas as pd\n",
    "from collections import Counter\n",
    "\n",
    "from lib.error import *"
   ]
  },
  {
   "cell_type": "code",
   "execution_count": 30,
   "metadata": {},
   "outputs": [],
   "source": [
    "from matplotlib import lines\n",
    "import matplotlib.pyplot as plt\n",
    "import seaborn as sns\n",
    "import matplotlib.gridspec as gridspec\n",
    "\n",
    "# inline stylization\n",
    "%matplotlib inline\n",
    "sns.set_style('white')\n",
    "sns.set_style('ticks')\n",
    "plt.rcParams['figure.dpi'] = 150\n",
    "plt.rcParams['savefig.dpi'] = 150\n",
    "plt.rcParams['figure.figsize'] = [4, 4]"
   ]
  },
  {
   "cell_type": "markdown",
   "metadata": {},
   "source": [
    "## 0 Settings"
   ]
  },
  {
   "cell_type": "code",
   "execution_count": 3,
   "metadata": {},
   "outputs": [],
   "source": [
    "expt_dir = \"../analysis/ont/zambia/2019-04-10\"  # experiment of interest\n",
    "cntrl_sample = \"BC05\"  # 3d7 sample"
   ]
  },
  {
   "cell_type": "markdown",
   "metadata": {},
   "source": [
    "If `save_figs` is set to `True`, then figures are automatically saved as `.png` under `../figs`, as well as visualized in the notebook."
   ]
  },
  {
   "cell_type": "code",
   "execution_count": 4,
   "metadata": {},
   "outputs": [],
   "source": [
    "save_figs = True\n",
    "fig_dir = expt_dir.replace(\"analysis\", \"figs\")\n",
    "if not os.path.exists(fig_dir):\n",
    "    os.makedirs(fig_dir)"
   ]
  },
  {
   "cell_type": "code",
   "execution_count": 5,
   "metadata": {},
   "outputs": [
    {
     "name": "stdout",
     "output_type": "stream",
     "text": [
      "Make Figures: True\n",
      "Figure path: ../figs/ont/zambia/2019-04-10\n"
     ]
    }
   ],
   "source": [
    "print(\"Make Figures:\", save_figs)\n",
    "print(\"Figure path:\", fig_dir)"
   ]
  },
  {
   "cell_type": "markdown",
   "metadata": {},
   "source": [
    "## 1 Transition Rate Across all Nucleotides"
   ]
  },
  {
   "cell_type": "code",
   "execution_count": 6,
   "metadata": {},
   "outputs": [],
   "source": [
    "cntrl_fn = cntrl_sample + \".KELCH13.reverse.nt_error.csv\"\n",
    "cntrl_path = os.path.join(expt_dir, cntrl_fn)\n",
    "kelch = pd.read_csv(cntrl_path)"
   ]
  },
  {
   "cell_type": "code",
   "execution_count": 7,
   "metadata": {},
   "outputs": [],
   "source": [
    "cntrl_fn = cntrl_sample + \".CRT.nt_error.csv\"\n",
    "cntrl_path = os.path.join(expt_dir, cntrl_fn)\n",
    "crt = pd.read_csv(cntrl_path)"
   ]
  },
  {
   "cell_type": "code",
   "execution_count": 8,
   "metadata": {},
   "outputs": [],
   "source": [
    "cntrl_fn = cntrl_sample + \".DHFR.nt_error.csv\"\n",
    "cntrl_path = os.path.join(expt_dir, cntrl_fn)\n",
    "dhfr = pd.read_csv(cntrl_path)"
   ]
  },
  {
   "cell_type": "code",
   "execution_count": 9,
   "metadata": {},
   "outputs": [],
   "source": [
    "cntrl_fn = cntrl_sample + \".MSP2.reverse.nt_error.csv\"\n",
    "cntrl_path = os.path.join(expt_dir, cntrl_fn)\n",
    "msp = pd.read_csv(cntrl_path)"
   ]
  },
  {
   "cell_type": "code",
   "execution_count": 10,
   "metadata": {},
   "outputs": [],
   "source": [
    "gene_df = pd.concat([kelch, dhfr, crt, msp])"
   ]
  },
  {
   "cell_type": "code",
   "execution_count": 11,
   "metadata": {},
   "outputs": [],
   "source": [
    "basecalls = pd.pivot_table(gene_df, \n",
    "                           index=\"ref\", values=[\"T\", \"A\", \"C\", \"G\"], \n",
    "                           aggfunc='sum')\n",
    "basecalls = basecalls.reindex([\"T\", \"A\", \"C\", \"G\"])[[\"T\", \"A\", \"C\", \"G\"]]"
   ]
  },
  {
   "cell_type": "code",
   "execution_count": 12,
   "metadata": {},
   "outputs": [
    {
     "data": {
      "text/html": [
       "<div>\n",
       "<style scoped>\n",
       "    .dataframe tbody tr th:only-of-type {\n",
       "        vertical-align: middle;\n",
       "    }\n",
       "\n",
       "    .dataframe tbody tr th {\n",
       "        vertical-align: top;\n",
       "    }\n",
       "\n",
       "    .dataframe thead th {\n",
       "        text-align: right;\n",
       "    }\n",
       "</style>\n",
       "<table border=\"1\" class=\"dataframe\">\n",
       "  <thead>\n",
       "    <tr style=\"text-align: right;\">\n",
       "      <th></th>\n",
       "      <th>T</th>\n",
       "      <th>A</th>\n",
       "      <th>C</th>\n",
       "      <th>G</th>\n",
       "    </tr>\n",
       "    <tr>\n",
       "      <th>ref</th>\n",
       "      <th></th>\n",
       "      <th></th>\n",
       "      <th></th>\n",
       "      <th></th>\n",
       "    </tr>\n",
       "  </thead>\n",
       "  <tbody>\n",
       "    <tr>\n",
       "      <th>T</th>\n",
       "      <td>0.973131</td>\n",
       "      <td>0.005514</td>\n",
       "      <td>0.041547</td>\n",
       "      <td>0.011978</td>\n",
       "    </tr>\n",
       "    <tr>\n",
       "      <th>A</th>\n",
       "      <td>0.006805</td>\n",
       "      <td>0.976466</td>\n",
       "      <td>0.017069</td>\n",
       "      <td>0.032189</td>\n",
       "    </tr>\n",
       "    <tr>\n",
       "      <th>C</th>\n",
       "      <td>0.009833</td>\n",
       "      <td>0.002629</td>\n",
       "      <td>0.958072</td>\n",
       "      <td>0.002767</td>\n",
       "    </tr>\n",
       "    <tr>\n",
       "      <th>G</th>\n",
       "      <td>0.003690</td>\n",
       "      <td>0.009523</td>\n",
       "      <td>0.004981</td>\n",
       "      <td>0.965667</td>\n",
       "    </tr>\n",
       "  </tbody>\n",
       "</table>\n",
       "</div>"
      ],
      "text/plain": [
       "            T         A         C         G\n",
       "ref                                        \n",
       "T    0.973131  0.005514  0.041547  0.011978\n",
       "A    0.006805  0.976466  0.017069  0.032189\n",
       "C    0.009833  0.002629  0.958072  0.002767\n",
       "G    0.003690  0.009523  0.004981  0.965667"
      ]
     },
     "execution_count": 12,
     "metadata": {},
     "output_type": "execute_result"
    }
   ],
   "source": [
    "basecalls = basecalls.div(basecalls.sum(1))\n",
    "basecalls"
   ]
  },
  {
   "cell_type": "code",
   "execution_count": 28,
   "metadata": {},
   "outputs": [],
   "source": [
    "cols = sns.color_palette(\"Paired\", 4)\n",
    "cols = [cols[i] for i in [1, 0, 3, 2]]"
   ]
  },
  {
   "cell_type": "code",
   "execution_count": 31,
   "metadata": {},
   "outputs": [
    {
     "data": {
      "image/png": "[encoded data removed]",
      "text/plain": [
       "<Figure size 600x750 with 2 Axes>"
      ]
     },
     "metadata": {},
     "output_type": "display_data"
    }
   ],
   "source": [
    "fig = plt.figure(figsize=(4, 5))\n",
    "fig.subplots_adjust(hspace=0.1)\n",
    "gs = gridspec.GridSpec(5, 1)\n",
    "\n",
    "ax_top = plt.subplot(gs[0:1, 0 ])\n",
    "ax_bottom = plt.subplot(gs[1:4, 0], sharex=ax_top)\n",
    "\n",
    "# Plot\n",
    "basecalls.plot(kind=\"bar\", color=cols, ax=ax_top, legend=False)\n",
    "basecalls.plot(kind=\"bar\", color=cols, ax=ax_bottom)\n",
    "# Limits\n",
    "ax_top.set_ylim((0.92, 1.0))\n",
    "ax_bottom.set_ylim((0, 0.05))\n",
    "# # Grid\n",
    "# ax_top.yaxis.set_major_locator(plt.MultipleLocator(0.02))\n",
    "# ax_top.yaxis.set_minor_locator(plt.MultipleLocator(0.01))\n",
    "# ax_bottom.yaxis.set_major_locator(plt.MultipleLocator(0.02))\n",
    "# ax_bottom.yaxis.set_minor_locator(plt.MultipleLocator(0.01))\n",
    "# ax_top.grid(axis=\"y\", linestyle=\"dashed\")\n",
    "# ax_bottom.grid(axis=\"y\", linestyle=\"dashed\")\n",
    "# ax_top.grid(axis=\"y\", which=\"minor\", linestyle=\"dotted\")\n",
    "# ax_bottom.grid(axis=\"y\", which=\"minor\", linestyle=\"dotted\")\n",
    "# Labels\n",
    "# ax_top.set_title(\"SNV Tendencies\")\n",
    "ax_bottom.set_xticklabels(ax_bottom.get_xticklabels(), rotation=0)\n",
    "ax_bottom.set_ylabel(\"Fraction of Basecalls\")\n",
    "ax_bottom.set_xlabel(\"Reference Nucleotide\")\n",
    "# Legend\n",
    "ax_bottom.legend(bbox_to_anchor=(1, 1), ncol=1, frameon=True, title=\"Basecall\")\n",
    "\n",
    "if save_figs:\n",
    "    fig.savefig(os.path.join(fig_dir, \"nt_error_bias.png\"),\n",
    "                bbox_inches=\"tight\",\n",
    "                pad_inches=0.5)"
   ]
  },
  {
   "cell_type": "markdown",
   "metadata": {},
   "source": [
    "- Purines tend to be substituted with purines (A to G, G to A)\n",
    "- Pyrimidines tend to be substituted with pyrimidines (T to C, C to T)\n",
    "- The AT basepair (which is also more frequent) tends to have a higher SNP error rate than the CG basepair"
   ]
  },
  {
   "cell_type": "code",
   "execution_count": null,
   "metadata": {},
   "outputs": [],
   "source": []
  },
  {
   "cell_type": "code",
   "execution_count": null,
   "metadata": {},
   "outputs": [],
   "source": []
  },
  {
   "cell_type": "code",
   "execution_count": null,
   "metadata": {},
   "outputs": [],
   "source": []
  },
  {
   "cell_type": "code",
   "execution_count": null,
   "metadata": {},
   "outputs": [],
   "source": []
  }
 ],
 "metadata": {
  "kernelspec": {
   "display_name": "Python 3",
   "language": "python",
   "name": "python3"
  },
  "language_info": {
   "codemirror_mode": {
    "name": "ipython",
    "version": 3
   },
   "file_extension": ".py",
   "mimetype": "text/x-python",
   "name": "python",
   "nbconvert_exporter": "python",
   "pygments_lexer": "ipython3",
   "version": "3.6.5"
  }
 },
 "nbformat": 4,
 "nbformat_minor": 2
}
