{
 "cells": [
  {
   "cell_type": "markdown",
   "metadata": {},
   "source": [
    "### Extract the coding sequence portion of all reads spanning a given gene as well as the associated phred scores\n",
    "---\n",
    "\n",
    "Workflow:\n",
    "- genome .gff\n",
    "- gene .ini\n",
    "    - Use these to produce a gene specific .bed file\n",
    "- sample .bam file\n",
    "    - Use this + .bed file to produce gene specific .sam file \n",
    "        - only contains reads overlapping entire coding sequence\n",
    "        \n",
    "Questions:\n",
    "- Does it handle multiple exons?\n",
    "- How to handle deletions in the phred array?\n",
    "    - Are their quality scores?"
   ]
  },
  {
   "cell_type": "code",
   "execution_count": 1,
   "metadata": {},
   "outputs": [],
   "source": [
    "import os\n",
    "import sys\n",
    "import configparser\n",
    "import getopt\n",
    "import numpy as np\n",
    "import pandas as pd\n",
    "from collections import Counter\n",
    "\n",
    "from lib.mutation import *\n",
    "from lib.error import *\n",
    "from lib.coi import *"
   ]
  },
  {
   "cell_type": "code",
   "execution_count": 2,
   "metadata": {},
   "outputs": [],
   "source": [
    "from matplotlib import patches\n",
    "from matplotlib import lines\n",
    "import matplotlib.pyplot as plt\n",
    "import seaborn as sns\n",
    "import matplotlib.gridspec as gridspec\n",
    "\n",
    "# inline stylization\n",
    "%matplotlib inline\n",
    "sns.set_style('white')\n",
    "sns.set_style('ticks')\n",
    "plt.rcParams['figure.dpi'] = 150\n",
    "plt.rcParams['savefig.dpi'] = 150\n",
    "plt.rcParams['figure.figsize'] = [4, 4]"
   ]
  },
  {
   "cell_type": "markdown",
   "metadata": {},
   "source": [
    "## 0 Settings"
   ]
  },
  {
   "cell_type": "code",
   "execution_count": 8,
   "metadata": {},
   "outputs": [],
   "source": [
    "platform = \"ont\"\n",
    "country = \"zambia\"\n",
    "date = \"2019-04-10\"\n",
    "sample = \"BC05\"\n",
    "gene = \"msp2\""
   ]
  },
  {
   "cell_type": "code",
   "execution_count": 9,
   "metadata": {},
   "outputs": [],
   "source": [
    "analysis_dir = os.path.join(\"../analysis\", platform, country, date)\n",
    "results_dir = os.path.join(\"../results\", platform, country, date)\n",
    "output_dir = os.path.join(analysis_dir, \"coi\")"
   ]
  },
  {
   "cell_type": "code",
   "execution_count": 10,
   "metadata": {},
   "outputs": [],
   "source": [
    "gene_ini = os.path.join(\"../data/resources/pf-regions/\", gene + \".ini\")\n",
    "gene_ini_path = os.path.dirname(gene_ini)"
   ]
  },
  {
   "cell_type": "code",
   "execution_count": 11,
   "metadata": {},
   "outputs": [],
   "source": [
    "config = configparser.ConfigParser()\n",
    "config.read(gene_ini)\n",
    "gene_dt = {}\n",
    "gene_dt[\"name\"] = config.get(\"Parameters\", \"name\")\n",
    "gene_dt[\"id\"] = config.get(\"Parameters\", \"id\")\n",
    "gene_dt[\"genome\"] = config.get(\"Parameters\", \"genome\")\n",
    "gene_dt[\"gff\"] = config.get(\"Parameters\", \"gff\")"
   ]
  },
  {
   "cell_type": "code",
   "execution_count": 12,
   "metadata": {},
   "outputs": [
    {
     "data": {
      "text/plain": [
       "['BC04.MSP2.gene_array.npy',\n",
       " 'BC05.MSP2.gene_array.npy',\n",
       " 'BC06.MSP2.gene_array.npy',\n",
       " 'BC06.MSP2.phred_array.npy',\n",
       " 'BC01.MSP2.gene_array.npy',\n",
       " 'BC01.MSP2.sam',\n",
       " 'BC03.MSP2.gene_array.npy',\n",
       " 'BC02.MSP2.gene_array.npy',\n",
       " 'BC06.MSP2.sam',\n",
       " 'BC03.MSP2.sam',\n",
       " 'BC02.MSP2.sam',\n",
       " 'BC04.MSP2.sam',\n",
       " 'BC05.MSP2.sam']"
      ]
     },
     "execution_count": 12,
     "metadata": {},
     "output_type": "execute_result"
    }
   ],
   "source": [
    "os.listdir(output_dir)"
   ]
  },
  {
   "cell_type": "markdown",
   "metadata": {},
   "source": [
    "## 1  Produce a `.bed` file delimiting gene exon boundaries"
   ]
  },
  {
   "cell_type": "code",
   "execution_count": 13,
   "metadata": {},
   "outputs": [],
   "source": [
    "exon_gff = \"%s.exons.gff\" % os.path.join(gene_ini_path, gene_dt[\"name\"])\n",
    "exon_bed = \"%s.exons.bed\" % os.path.join(gene_ini_path, gene_dt[\"name\"])"
   ]
  },
  {
   "cell_type": "code",
   "execution_count": 14,
   "metadata": {},
   "outputs": [
    {
     "name": "stdout",
     "output_type": "stream",
     "text": [
      ".gff and .bed file for MSP2 already exist.\n"
     ]
    }
   ],
   "source": [
    "if not os.path.isfile(exon_gff) or not os.path.isfile(exon_bed):\n",
    "    print(\"Creating .gff and .bed file for %s\" % gene_dt[\"name\"])\n",
    "    # Create a GFF describing the exons of the target gene\n",
    "    cmd = \"grep -E 'exon.*%s' %s > %s\" % (gene_dt[\"id\"],\n",
    "                                          gene_dt[\"gff\"],\n",
    "                                          exon_gff)\n",
    "    os.system(cmd)\n",
    "    exon_df = pd.read_csv(exon_gff, sep=\"\\t\", header=-1)\n",
    "    gff_columns = [\"seq\", \"source\", \"feature\", \n",
    "                   \"start\", \"end\", \"score\", \"strand\", \n",
    "                   \"phase\", \"attributes\"]\n",
    "    exon_df.columns = gff_columns\n",
    "    exon_df.start = exon_df.start - 1  # Off by one incongruity with mpileup, unfortunately.\n",
    "    exon_df.to_csv(exon_gff, sep=\"\\t\", index=False, header=False)\n",
    "\n",
    "    # Create an associated BED file\n",
    "    cmd = \"cut -f 1,4,5 %s > %s\" % (exon_gff, exon_bed)\n",
    "    os.system(cmd)\n",
    "else:\n",
    "    print(\".gff and .bed file for %s already exist.\" % gene_dt[\"name\"])\n",
    "    exon_df = pd.read_csv(exon_gff, sep=\"\\t\", header=-1)\n",
    "    gff_columns = [\"seq\", \"source\", \"feature\", \n",
    "                   \"start\", \"end\", \"score\", \"strand\", \n",
    "                   \"phase\", \"attributes\"]\n",
    "    exon_df.columns = gff_columns"
   ]
  },
  {
   "cell_type": "markdown",
   "metadata": {},
   "source": [
    "## 2 Produce a sample-gene-specific `.sam`"
   ]
  },
  {
   "cell_type": "code",
   "execution_count": 20,
   "metadata": {},
   "outputs": [
    {
     "name": "stdout",
     "output_type": "stream",
     "text": [
      "Output path for .sam: ../analysis/ont/zambia/2019-04-10/coi/BC05.MSP2.sam\n"
     ]
    }
   ],
   "source": [
    "gene_sam_fn = \"%s.%s.sam\" % (sample, gene_dt[\"name\"])\n",
    "sam_path = os.path.join(output_dir, gene_sam_fn)\n",
    "print(\"Output path for .sam:\", sam_path)"
   ]
  },
  {
   "cell_type": "code",
   "execution_count": 21,
   "metadata": {},
   "outputs": [
    {
     "name": "stdout",
     "output_type": "stream",
     "text": [
      ".sam file already exists.\n"
     ]
    }
   ],
   "source": [
    "if not os.path.isfile(sam_path):\n",
    "    cmd = \"samtools view %s -L %s > %s\" % (bam_path,\n",
    "                                           exon_bed,\n",
    "                                           sam_path)\n",
    "    print(\"Generating a .sam file containing %s overlapping reads ONLY.\" % gene_dt[\"name\"])\n",
    "    print(\"  Command:\", cmd)\n",
    "    os.system(cmd)\n",
    "else:\n",
    "    print(\".sam file already exists.\")"
   ]
  },
  {
   "cell_type": "markdown",
   "metadata": {},
   "source": [
    "## 3 Extract `gene_array` and `phred_array`"
   ]
  },
  {
   "cell_type": "code",
   "execution_count": 22,
   "metadata": {},
   "outputs": [],
   "source": [
    "verbose = False"
   ]
  },
  {
   "cell_type": "code",
   "execution_count": 25,
   "metadata": {},
   "outputs": [],
   "source": [
    "def convert_qual(qual, shift_int=33):\n",
    "    \"\"\"\n",
    "    Convert an ASCII encoded quality score into\n",
    "    a Phred score or probability of error\n",
    "    \n",
    "    \"\"\"\n",
    "    return np.array([ord(c) for c in qual]) - shift_int"
   ]
  },
  {
   "cell_type": "code",
   "execution_count": 26,
   "metadata": {},
   "outputs": [],
   "source": [
    "with open(sam_path, \"r+\") as sam:\n",
    "    gene_start = exon_df.start[0]\n",
    "    gene_end = exon_df.end[0]\n",
    "    gene_length = gene_end - gene_start\n",
    "    \n",
    "    if verbose:\n",
    "        print(\"Gene start:\", gene_start)\n",
    "        print(\"Gene end:\", gene_end)\n",
    "        print(\"Gene length:\", gene_length)\n",
    "    \n",
    "    gene_phreds = []\n",
    "    gene_ints = []\n",
    "    flags = []\n",
    "    for line in sam:\n",
    "        _, flag, _, start, _, cigar, _, _, _, seq, qual = line.split()[:11]\n",
    "                \n",
    "        if verbose:\n",
    "            print(\"Start:\", start)\n",
    "            print(\"CIGAR:\", cigar[:10], \" ...\")\n",
    "            print(\"Sequence:\", seq[:10], \" ...\")\n",
    "            print(\"Quality:\", qual[:10], \"...\")\n",
    "        \n",
    "        \n",
    "        # Process the CIGAR string of each read,\n",
    "        # assigning reference position to each base\n",
    "        start = int(start)\n",
    "        positions, mapped_seq = process_by_cigar(start, seq, cigar)\n",
    "        \n",
    "        # Filter for bases within coding region\n",
    "        gene_bases = [c \n",
    "                      for c, p in zip(mapped_seq, positions) \n",
    "                      if gene_start < p <= gene_end]\n",
    "        \n",
    "        # Reverse complement if necessary\n",
    "        if exon_df[\"strand\"][0] == '-':\n",
    "            gene_bases = [complement_map[c] for c in gene_bases[::-1]]\n",
    "        \n",
    "        # If the read spanned the entire coding region, save\n",
    "        if len(gene_bases) == gene_length:\n",
    "            gene_int = np.array([dna_to_ints[c] for c in gene_bases])\n",
    "            gene_ints.append(gene_int)\n",
    "            flags.append(flag)\n",
    "            \n",
    "        # Repeat about but for quality scores\n",
    "        positions, mapped_qual = process_by_cigar(start, qual, cigar) \n",
    "        gene_qual = [c\n",
    "                     for c, p in zip(mapped_qual, positions)\n",
    "                     if gene_start < p <= gene_end]\n",
    "        \n",
    "        if exon_df[\"strand\"][0] == '-':\n",
    "            gene_qual = [c for c in gene_qual[::-1]]  # simply reverse order\n",
    "        \n",
    "        # If the read spanned the entire coding region, save\n",
    "        if len(gene_qual) == gene_length:\n",
    "            gene_phred = convert_qual(gene_qual)\n",
    "            gene_phred[gene_int == -1] = -1  # these are where deletions occured\n",
    "            gene_phreds.append(gene_phred)"
   ]
  },
  {
   "cell_type": "code",
   "execution_count": 27,
   "metadata": {},
   "outputs": [],
   "source": [
    "gene_array = np.vstack(gene_ints)\n",
    "phred_array = np.vstack(gene_phreds)"
   ]
  },
  {
   "cell_type": "code",
   "execution_count": 28,
   "metadata": {},
   "outputs": [
    {
     "name": "stdout",
     "output_type": "stream",
     "text": [
      "Gene array: (43228, 819)\n",
      "PHRED array: (43228, 819)\n"
     ]
    }
   ],
   "source": [
    "print(\"Gene array:\", gene_array.shape)\n",
    "print(\"PHRED array:\", phred_array.shape)"
   ]
  },
  {
   "cell_type": "markdown",
   "metadata": {},
   "source": [
    "## 4 Write"
   ]
  },
  {
   "cell_type": "code",
   "execution_count": 33,
   "metadata": {},
   "outputs": [],
   "source": [
    "gene_fn = \"%s.%s.gene_array.npy\" % (sample, gene_dt[\"name\"])\n",
    "phred_fn = \"%s.%s.phred_array.npy\" % (sample, gene_dt[\"name\"])"
   ]
  },
  {
   "cell_type": "code",
   "execution_count": 34,
   "metadata": {},
   "outputs": [
    {
     "name": "stdout",
     "output_type": "stream",
     "text": [
      "Gene file: BC05.MSP2.gene_array.npy\n",
      "PHRED file: BC05.MSP2.phred_array.npy\n"
     ]
    }
   ],
   "source": [
    "print(\"Gene file:\", gene_fn)\n",
    "print(\"PHRED file:\", phred_fn)"
   ]
  },
  {
   "cell_type": "code",
   "execution_count": 35,
   "metadata": {},
   "outputs": [],
   "source": [
    "np.save(os.path.join(output_dir, gene_fn), gene_array)\n",
    "np.save(os.path.join(output_dir, phred_fn), phred_array)"
   ]
  },
  {
   "cell_type": "code",
   "execution_count": 36,
   "metadata": {},
   "outputs": [
    {
     "data": {
      "text/plain": [
       "['BC04.MSP2.gene_array.npy',\n",
       " 'BC05.MSP2.gene_array.npy',\n",
       " 'BC06.MSP2.gene_array.npy',\n",
       " 'BC06.MSP2.phred_array.npy',\n",
       " 'BC01.MSP2.gene_array.npy',\n",
       " 'BC01.MSP2.sam',\n",
       " 'BC03.MSP2.gene_array.npy',\n",
       " 'BC02.MSP2.gene_array.npy',\n",
       " 'BC06.MSP2.sam',\n",
       " 'BC03.MSP2.sam',\n",
       " 'BC02.MSP2.sam',\n",
       " 'BC05.MSP2.phred_array.npy',\n",
       " 'BC04.MSP2.sam',\n",
       " 'BC05.MSP2.sam']"
      ]
     },
     "execution_count": 36,
     "metadata": {},
     "output_type": "execute_result"
    }
   ],
   "source": [
    "os.listdir(output_dir)"
   ]
  }
 ],
 "metadata": {
  "kernelspec": {
   "display_name": "Python 3",
   "language": "python",
   "name": "python3"
  },
  "language_info": {
   "codemirror_mode": {
    "name": "ipython",
    "version": 3
   },
   "file_extension": ".py",
   "mimetype": "text/x-python",
   "name": "python",
   "nbconvert_exporter": "python",
   "pygments_lexer": "ipython3",
   "version": "3.6.5"
  }
 },
 "nbformat": 4,
 "nbformat_minor": 2
}
