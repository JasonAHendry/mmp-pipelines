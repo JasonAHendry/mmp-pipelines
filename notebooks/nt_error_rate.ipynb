{
 "cells": [
  {
   "cell_type": "markdown",
   "metadata": {},
   "source": [
    "# Characterizing the nucleotide error rate\n",
    "---"
   ]
  },
  {
   "cell_type": "code",
   "execution_count": null,
   "metadata": {},
   "outputs": [],
   "source": [
    "import os\n",
    "import sys\n",
    "import configparser\n",
    "import getopt\n",
    "import numpy as np\n",
    "import pandas as pd\n",
    "from collections import Counter\n",
    "\n",
    "from lib.error import *"
   ]
  },
  {
   "cell_type": "code",
   "execution_count": null,
   "metadata": {},
   "outputs": [],
   "source": [
    "from matplotlib import lines\n",
    "import matplotlib.pyplot as plt\n",
    "import seaborn as sns\n",
    "import matplotlib.gridspec as gridspec\n",
    "\n",
    "# inline stylization\n",
    "%matplotlib inline\n",
    "sns.set_style('white')\n",
    "sns.set_style('ticks')\n",
    "plt.rcParams['figure.dpi'] = 150\n",
    "plt.rcParams['savefig.dpi'] = 150\n",
    "plt.rcParams['figure.figsize'] = [4, 4]"
   ]
  },
  {
   "cell_type": "markdown",
   "metadata": {},
   "source": [
    "## 0 Settings"
   ]
  },
  {
   "cell_type": "code",
   "execution_count": null,
   "metadata": {},
   "outputs": [],
   "source": [
    "expt_dir = \"../analysis/ont/zambia/2019-04-10\"  # experiment of interest\n",
    "cntrl_sample = \"BC05\"  # 3d7 sample"
   ]
  },
  {
   "cell_type": "markdown",
   "metadata": {},
   "source": [
    "If `save_figs` is set to `True`, then figures are automatically saved as `.png` under `../figs`, as well as visualized in the notebook."
   ]
  },
  {
   "cell_type": "code",
   "execution_count": null,
   "metadata": {},
   "outputs": [],
   "source": [
    "save_figs = True\n",
    "fig_dir = expt_dir.replace(\"analysis\", \"figs\")\n",
    "if not os.path.exists(fig_dir):\n",
    "    os.makedirs(fig_dir)"
   ]
  },
  {
   "cell_type": "code",
   "execution_count": null,
   "metadata": {},
   "outputs": [],
   "source": [
    "print(\"Make Figures:\", save_figs)\n",
    "print(\"Figure path:\", fig_dir)"
   ]
  },
  {
   "cell_type": "code",
   "execution_count": null,
   "metadata": {},
   "outputs": [],
   "source": [
    "expt_dir = \"../analysis/ont/zambia/2019-04-10\"\n",
    "cntrl_sample = \"BC05\""
   ]
  },
  {
   "cell_type": "markdown",
   "metadata": {},
   "source": [
    "## 1 By gene"
   ]
  },
  {
   "cell_type": "markdown",
   "metadata": {},
   "source": [
    "###  1a $KELCH13$"
   ]
  },
  {
   "cell_type": "code",
   "execution_count": null,
   "metadata": {},
   "outputs": [],
   "source": [
    "cntrl_fn = cntrl_sample + \".KELCH13.reverse.nt_error.csv\"\n",
    "cntrl_path = os.path.join(expt_dir, cntrl_fn)"
   ]
  },
  {
   "cell_type": "code",
   "execution_count": null,
   "metadata": {},
   "outputs": [],
   "source": [
    "kelch = pd.read_csv(cntrl_path)\n",
    "kelch = convert_to_frequencies(kelch, \"total\", [\"position\", \"ref\", \"total\"])"
   ]
  },
  {
   "cell_type": "code",
   "execution_count": null,
   "metadata": {},
   "outputs": [],
   "source": [
    "fig, axes = plt.subplots(4, 1, figsize=(4, 4), sharex=True)\n",
    "fig.subplots_adjust(top=0.925)\n",
    "\n",
    "params = {\n",
    "    \"error\": \"Overall\",\n",
    "    \"-\": \"Deletions\",\n",
    "    \"+\": \"Insertions\",\n",
    "    \"SNV\": \"SNVs\"}\n",
    "bs = np.arange(0, 0.525, 0.01)\n",
    "\n",
    "cols = sns.color_palette(\"Set1\", 4)\n",
    "for (p, name), (col, ax) in zip(params.items(), zip(cols, axes.flatten())):\n",
    "    \n",
    "    values = kelch[p]\n",
    "    stats = {\n",
    "        \"mean\": (values.mean(), \"solid\"),\n",
    "        \"med.\": (values.median(), \"dashed\"),\n",
    "        \"95%\": (values.quantile(q=0.95), \"dotted\")\n",
    "    }\n",
    "    \n",
    "    # Plot\n",
    "    ax.hist(values, bins=bs, color=col, \n",
    "            edgecolor='black', linewidth=0.75)\n",
    "    \n",
    "    ax.grid(linestyle='dotted')\n",
    "    \n",
    "    # Axis\n",
    "    ax.yaxis.set_visible(False)\n",
    "    \n",
    "    # Lines\n",
    "    for stat, (val, ls) in stats.items():\n",
    "        ax.axvline(val, color=\"black\", linestyle=ls, label=stat, zorder=0)\n",
    "    \n",
    "    # Legend\n",
    "    handles = [lines.Line2D([0], [0],\n",
    "                            linestyle=ls, color='black',\n",
    "                            linewidth=0.75,\n",
    "                            label=\"%s: %.01f%%\" % (stat, 100*val)) \n",
    "               for stat, (val, ls) in stats.items()]\n",
    "    ax.legend(loc=\"lower right\", handles=handles, handlelength=1.0,\n",
    "              fontsize=6, frameon=True)\n",
    "    \n",
    "    \n",
    "    # Title\n",
    "    ax.annotate(xy=(0.99, 0.95), xycoords=\"axes fraction\",\n",
    "                ha=\"right\", va=\"top\",\n",
    "                color=col,\n",
    "                s=name)\n",
    "    ax.set_xlim((0, 0.5))\n",
    "    \n",
    "    \n",
    "    \n",
    "ax.set_xlabel(\"Error Rate Distribution (per-site) \\n Sites: %d\" % len(kelch))\n",
    "fig.suptitle(\"$Kelch13$\")\n",
    "\n",
    "if save_figs:\n",
    "    fig.savefig(os.path.join(fig_dir, \"nt_error_rate_kelch13.png\"),\n",
    "                bbox_inches=\"tight\",\n",
    "                pad_inches=0.5)"
   ]
  },
  {
   "cell_type": "markdown",
   "metadata": {},
   "source": [
    "### 1b $DHFR$"
   ]
  },
  {
   "cell_type": "code",
   "execution_count": null,
   "metadata": {},
   "outputs": [],
   "source": [
    "cntrl_fn = cntrl_sample + \".DHFR.nt_error.csv\"\n",
    "cntrl_path = os.path.join(expt_dir, cntrl_fn)"
   ]
  },
  {
   "cell_type": "code",
   "execution_count": null,
   "metadata": {},
   "outputs": [],
   "source": [
    "dhfr = pd.read_csv(cntrl_path)\n",
    "dhfr = convert_to_frequencies(dhfr, \"total\", [\"position\", \"ref\", \"total\"])"
   ]
  },
  {
   "cell_type": "code",
   "execution_count": null,
   "metadata": {},
   "outputs": [],
   "source": [
    "fig, axes = plt.subplots(4, 1, figsize=(4, 4), sharex=True)\n",
    "fig.subplots_adjust(top=0.925)\n",
    "\n",
    "params = {\n",
    "    \"error\": \"Overall\",\n",
    "    \"-\": \"Deletions\",\n",
    "    \"+\": \"Insertions\",\n",
    "    \"SNV\": \"SNVs\"}\n",
    "bs = np.arange(0, 0.525, 0.01)\n",
    "\n",
    "cols = sns.color_palette(\"Set1\", 4)\n",
    "for (p, name), (col, ax) in zip(params.items(), zip(cols, axes.flatten())):\n",
    "    \n",
    "    values = dhfr[p]\n",
    "    stats = {\n",
    "        \"mean\": (values.mean(), \"solid\"),\n",
    "        \"med.\": (values.median(), \"dashed\"),\n",
    "        \"95%\": (values.quantile(q=0.95), \"dotted\")\n",
    "    }\n",
    "    \n",
    "    # Plot\n",
    "    ax.hist(values, bins=bs, color=col, \n",
    "            edgecolor='black', linewidth=0.75)\n",
    "    \n",
    "    ax.grid(linestyle='dotted')\n",
    "    \n",
    "    # Axis\n",
    "    ax.yaxis.set_visible(False)\n",
    "    \n",
    "    # Lines\n",
    "    for stat, (val, ls) in stats.items():\n",
    "        ax.axvline(val, color=\"black\", linestyle=ls, label=stat, zorder=0)\n",
    "    \n",
    "    # Legend\n",
    "    handles = [lines.Line2D([0], [0],\n",
    "                            linestyle=ls, color='black',\n",
    "                            linewidth=0.75,\n",
    "                            label=\"%s: %.01f%%\" % (stat, 100*val)) \n",
    "               for stat, (val, ls) in stats.items()]\n",
    "    ax.legend(loc=\"lower right\", handles=handles, handlelength=1.0,\n",
    "              fontsize=6, frameon=True)\n",
    "    \n",
    "    \n",
    "    # Title\n",
    "    ax.annotate(xy=(0.99, 0.95), xycoords=\"axes fraction\",\n",
    "                ha=\"right\", va=\"top\",\n",
    "                color=col,\n",
    "                s=name)\n",
    "    ax.set_xlim((0, 0.5))\n",
    "    \n",
    "    \n",
    "    \n",
    "ax.set_xlabel(\"Error Rate Distribution (per-site) \\n Sites: %d\" % len(dhfr))\n",
    "fig.suptitle(\"$DHFR$\")\n",
    "\n",
    "if save_figs:\n",
    "    fig.savefig(os.path.join(fig_dir, \"nt_error_rate_dhfr.png\"),\n",
    "                bbox_inches=\"tight\",\n",
    "                pad_inches=0.5)"
   ]
  },
  {
   "cell_type": "markdown",
   "metadata": {},
   "source": [
    "### 1c $CRT1$"
   ]
  },
  {
   "cell_type": "code",
   "execution_count": null,
   "metadata": {},
   "outputs": [],
   "source": [
    "cntrl_fn = cntrl_sample + \".CRT.nt_error.csv\"\n",
    "cntrl_path = os.path.join(expt_dir, cntrl_fn)"
   ]
  },
  {
   "cell_type": "code",
   "execution_count": null,
   "metadata": {},
   "outputs": [],
   "source": [
    "crt = pd.read_csv(cntrl_path)\n",
    "crt.query(\"total > 1\", inplace=True)\n",
    "crt = convert_to_frequencies(crt, \"total\", [\"position\", \"ref\", \"total\"])"
   ]
  },
  {
   "cell_type": "code",
   "execution_count": null,
   "metadata": {},
   "outputs": [],
   "source": [
    "fig, axes = plt.subplots(4, 1, figsize=(4, 4), sharex=True)\n",
    "fig.subplots_adjust(top=0.925)\n",
    "\n",
    "params = {\n",
    "    \"error\": \"Overall\",\n",
    "    \"-\": \"Deletions\",\n",
    "    \"+\": \"Insertions\",\n",
    "    \"SNV\": \"SNVs\"}\n",
    "bs = np.arange(0, 0.525, 0.01)\n",
    "\n",
    "cols = sns.color_palette(\"Set1\", 4)\n",
    "for (p, name), (col, ax) in zip(params.items(), zip(cols, axes.flatten())):\n",
    "    \n",
    "    values = crt[p]\n",
    "    stats = {\n",
    "        \"mean\": (values.mean(), \"solid\"),\n",
    "        \"med.\": (values.median(), \"dashed\"),\n",
    "        \"95%\": (values.quantile(q=0.95), \"dotted\")\n",
    "    }\n",
    "    \n",
    "    # Plot\n",
    "    ax.hist(values, bins=bs, color=col, \n",
    "            edgecolor='black', linewidth=0.75)\n",
    "    \n",
    "    ax.grid(linestyle='dotted')\n",
    "    \n",
    "    # Axis\n",
    "    ax.yaxis.set_visible(False)\n",
    "    \n",
    "    # Lines\n",
    "    for stat, (val, ls) in stats.items():\n",
    "        ax.axvline(val, color=\"black\", linestyle=ls, label=stat, zorder=0)\n",
    "    \n",
    "    # Legend\n",
    "    handles = [lines.Line2D([0], [0],\n",
    "                            linestyle=ls, color='black',\n",
    "                            linewidth=0.75,\n",
    "                            label=\"%s: %.01f%%\" % (stat, 100*val)) \n",
    "               for stat, (val, ls) in stats.items()]\n",
    "    ax.legend(loc=\"lower right\", handles=handles, handlelength=1.0,\n",
    "              fontsize=6, frameon=True)\n",
    "    \n",
    "    \n",
    "    # Title\n",
    "    ax.annotate(xy=(0.99, 0.95), xycoords=\"axes fraction\",\n",
    "                ha=\"right\", va=\"top\",\n",
    "                color=col,\n",
    "                s=name)\n",
    "    ax.set_xlim((0, 0.5))\n",
    "    \n",
    "    \n",
    "    \n",
    "ax.set_xlabel(\"Error Rate (per-site) \\n Sites: %d\" % len(crt))\n",
    "fig.suptitle(\"$CRT1$\")\n",
    "\n",
    "if save_figs:\n",
    "    fig.savefig(os.path.join(fig_dir, \"nt_error_rate_crt.png\"),\n",
    "                bbox_inches=\"tight\",\n",
    "                pad_inches=0.5)"
   ]
  },
  {
   "cell_type": "markdown",
   "metadata": {},
   "source": [
    "### 1d $MSP2$"
   ]
  },
  {
   "cell_type": "code",
   "execution_count": null,
   "metadata": {},
   "outputs": [],
   "source": [
    "cntrl_fn = cntrl_sample + \".MSP2.reverse.nt_error.csv\"\n",
    "cntrl_path = os.path.join(expt_dir, cntrl_fn)"
   ]
  },
  {
   "cell_type": "code",
   "execution_count": null,
   "metadata": {},
   "outputs": [],
   "source": [
    "msp = pd.read_csv(cntrl_path)\n",
    "msp.query(\"total > 1\", inplace=True)\n",
    "msp = convert_to_frequencies(msp, \"total\", [\"position\", \"ref\", \"total\"])"
   ]
  },
  {
   "cell_type": "code",
   "execution_count": null,
   "metadata": {},
   "outputs": [],
   "source": [
    "fig, axes = plt.subplots(4, 1, figsize=(4, 4), sharex=True)\n",
    "fig.subplots_adjust(top=0.925)\n",
    "\n",
    "params = {\n",
    "    \"error\": \"Overall\",\n",
    "    \"-\": \"Deletions\",\n",
    "    \"+\": \"Insertions\",\n",
    "    \"SNV\": \"SNVs\"}\n",
    "bs = np.arange(0, 0.525, 0.01)\n",
    "\n",
    "cols = sns.color_palette(\"Set1\", 4)\n",
    "for (p, name), (col, ax) in zip(params.items(), zip(cols, axes.flatten())):\n",
    "    \n",
    "    values = msp[p]\n",
    "    stats = {\n",
    "        \"mean\": (values.mean(), \"solid\"),\n",
    "        \"med.\": (values.median(), \"dashed\"),\n",
    "        \"95%\": (values.quantile(q=0.95), \"dotted\")\n",
    "    }\n",
    "    \n",
    "    # Plot\n",
    "    ax.hist(values, bins=bs, color=col, \n",
    "            edgecolor='black', linewidth=0.75)\n",
    "    \n",
    "    ax.grid(linestyle='dotted')\n",
    "    \n",
    "    # Axis\n",
    "    ax.yaxis.set_visible(False)\n",
    "    \n",
    "    # Lines\n",
    "    for stat, (val, ls) in stats.items():\n",
    "        ax.axvline(val, color=\"black\", linestyle=ls, label=stat, zorder=0)\n",
    "    \n",
    "    # Legend\n",
    "    handles = [lines.Line2D([0], [0],\n",
    "                            linestyle=ls, color='black',\n",
    "                            linewidth=0.75,\n",
    "                            label=\"%s: %.01f%%\" % (stat, 100*val)) \n",
    "               for stat, (val, ls) in stats.items()]\n",
    "    ax.legend(loc=\"lower right\", handles=handles, handlelength=1.0,\n",
    "              fontsize=6, frameon=True)\n",
    "    \n",
    "    \n",
    "    # Title\n",
    "    ax.annotate(xy=(0.99, 0.95), xycoords=\"axes fraction\",\n",
    "                ha=\"right\", va=\"top\",\n",
    "                color=col,\n",
    "                s=name)\n",
    "    ax.set_xlim((0, 0.5))\n",
    "    \n",
    "    \n",
    "    \n",
    "ax.set_xlabel(\"Error Rate Distribution (per-site) \\n Sites: %d\" % len(msp))\n",
    "fig.suptitle(\"$MSP2$\")\n",
    "\n",
    "if save_figs:\n",
    "    fig.savefig(os.path.join(fig_dir, \"nt_error_rate_msp2.png\"),\n",
    "                bbox_inches=\"tight\",\n",
    "                pad_inches=0.5)"
   ]
  },
  {
   "cell_type": "markdown",
   "metadata": {},
   "source": [
    "## 2 Combined"
   ]
  },
  {
   "cell_type": "code",
   "execution_count": null,
   "metadata": {},
   "outputs": [],
   "source": [
    "genes = [kelch, dhfr, crt, msp]\n",
    "gene_df = pd.concat(genes)"
   ]
  },
  {
   "cell_type": "code",
   "execution_count": null,
   "metadata": {},
   "outputs": [],
   "source": [
    "fig, axes = plt.subplots(4, 1, figsize=(4, 4), sharex=True)\n",
    "fig.subplots_adjust(top=0.925)\n",
    "\n",
    "params = {\n",
    "    \"error\": \"Overall\",\n",
    "    \"-\": \"Deletions\",\n",
    "    \"+\": \"Insertions\",\n",
    "    \"SNV\": \"SNVs\"}\n",
    "bs = np.arange(0, 0.525, 0.01)\n",
    "\n",
    "cols = sns.color_palette(\"Set1\", 4)\n",
    "for (p, name), (col, ax) in zip(params.items(), zip(cols, axes.flatten())):\n",
    "    \n",
    "    values = gene_df[p]\n",
    "    stats = {\n",
    "        \"mean\": (values.mean(), \"solid\"),\n",
    "        \"med.\": (values.median(), \"dashed\"),\n",
    "        \"95%\": (values.quantile(q=0.95), \"dotted\")\n",
    "    }\n",
    "    \n",
    "    # Plot\n",
    "    ax.hist(values, bins=bs, color=col, \n",
    "            edgecolor='black', linewidth=0.75)\n",
    "    \n",
    "    ax.grid(linestyle='dotted')\n",
    "    \n",
    "    # Axis\n",
    "    ax.yaxis.set_visible(False)\n",
    "    \n",
    "    # Lines\n",
    "    for stat, (val, ls) in stats.items():\n",
    "        ax.axvline(val, color=\"black\", linestyle=ls, label=stat, zorder=0)\n",
    "    \n",
    "    # Legend\n",
    "    handles = [lines.Line2D([0], [0],\n",
    "                            linestyle=ls, color='black',\n",
    "                            linewidth=0.75,\n",
    "                            label=\"%s: %.01f%%\" % (stat, 100*val)) \n",
    "               for stat, (val, ls) in stats.items()]\n",
    "    ax.legend(loc=\"lower right\", handles=handles, handlelength=1.0,\n",
    "              fontsize=6, frameon=True)\n",
    "    \n",
    "    \n",
    "    # Title\n",
    "    ax.annotate(xy=(0.99, 0.95), xycoords=\"axes fraction\",\n",
    "                ha=\"right\", va=\"top\",\n",
    "                color=col,\n",
    "                s=name)\n",
    "    ax.set_xlim((0, 0.5))\n",
    "    \n",
    "ax.set_xlabel(\"Error Rate (per-site) \\n Sites: %d\" % len(gene_df))\n",
    "\n",
    "if save_figs:\n",
    "    fig.savefig(os.path.join(fig_dir, \"nt_error_rate_combined.png\"),\n",
    "                bbox_inches=\"tight\",\n",
    "                pad_inches=0.5)"
   ]
  },
  {
   "cell_type": "code",
   "execution_count": null,
   "metadata": {},
   "outputs": [],
   "source": []
  },
  {
   "cell_type": "code",
   "execution_count": null,
   "metadata": {},
   "outputs": [],
   "source": []
  },
  {
   "cell_type": "code",
   "execution_count": null,
   "metadata": {},
   "outputs": [],
   "source": []
  }
 ],
 "metadata": {
  "kernelspec": {
   "display_name": "Python 3",
   "language": "python",
   "name": "python3"
  },
  "language_info": {
   "codemirror_mode": {
    "name": "ipython",
    "version": 3
   },
   "file_extension": ".py",
   "mimetype": "text/x-python",
   "name": "python",
   "nbconvert_exporter": "python",
   "pygments_lexer": "ipython3",
   "version": "3.6.5"
  }
 },
 "nbformat": 4,
 "nbformat_minor": 2
}
